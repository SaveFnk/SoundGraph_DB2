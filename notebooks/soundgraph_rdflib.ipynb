{
 "cells": [
  {
   "cell_type": "markdown",
   "source": [
    "## Spotify and YouTube dataset population\n",
    "\n",
    "This notebook outlines the steps to create an RDF dataset based on the SoundGraph ontology, from the data import to RDF triple export in Turtle format."
   ],
   "metadata": {
    "collapsed": false
   },
   "id": "e953e7e47cdd4d59"
  },
  {
   "cell_type": "code",
   "execution_count": 1,
   "outputs": [],
   "source": [
    "# required libraries\n",
    "from pathlib import Path\n",
    "from rdflib import Graph, Literal, RDF, URIRef, Namespace\n",
    "from rdflib.namespace import FOAF, XSD\n",
    "import os\n",
    "import pandas as pd"
   ],
   "metadata": {
    "collapsed": false,
    "ExecuteTime": {
     "end_time": "2023-12-07T16:26:57.564363100Z",
     "start_time": "2023-12-07T16:26:56.864982400Z"
    }
   },
   "id": "ad98a76565745715"
  },
  {
   "cell_type": "markdown",
   "source": [
    "### Load CSV files"
   ],
   "metadata": {
    "collapsed": false
   },
   "id": "1528fda7473d7cb9"
  },
  {
   "cell_type": "code",
   "execution_count": 3,
   "outputs": [],
   "source": [
    "# csv files path\n",
    "base_path = str(Path(os.path.abspath(os.getcwd())).parent.absolute())\n",
    "\n",
    "dataset_path = base_path + '/data/Spotify_Youtube.csv'\n",
    "spotify_artist_path = base_path + '/data/Artists.csv'\n",
    "spotify_artist_info_path = base_path + '/data/Artist_info.csv'\n",
    "spotify_album_path = base_path + '/data/Album_info.csv'\n",
    "wikidata_artists_path = base_path + '/data/wikidata_artists.csv'\n",
    "wikidata_award_statements_path = base_path + '/data/wikidata_award_statements.csv'\n",
    "wikidata_awards_path = base_path + '/data/wikidata_awards_processed.csv'\n",
    "youtube_api_channels_path = base_path + '/data/youtubeapi_channels_complete.csv'\n",
    "# target path where to save the serializations\n",
    "rdf_path = base_path + '/rdf/' "
   ],
   "metadata": {
    "collapsed": false,
    "ExecuteTime": {
     "end_time": "2023-12-07T16:29:17.796880900Z",
     "start_time": "2023-12-07T16:29:17.789420900Z"
    }
   },
   "id": "4381a254bd1b04c6"
  },
  {
   "cell_type": "code",
   "execution_count": null,
   "outputs": [],
   "source": [
    "dataset = pd.read_csv(dataset_path)\n",
    "# TODO fix mismatching values (e.g., stream, views)\n",
    "# TODO custom .fillna() for each column\n",
    "dataset.info()"
   ],
   "metadata": {
    "collapsed": false
   },
   "id": "b7a19baa75751bc4"
  },
  {
   "cell_type": "code",
   "execution_count": null,
   "outputs": [],
   "source": [
    "# TODO check if other files need some preprocessing (on ids, list to string, idk), basta che li facciamo tutti qui così poi viene più easy sotto"
   ],
   "metadata": {
    "collapsed": false
   },
   "id": "5d6cc52c597d847c"
  },
  {
   "cell_type": "code",
   "execution_count": null,
   "outputs": [],
   "source": [
    "# TODO ma questo csv serve?\n",
    "spotify_artist = pd.read_csv(spotify_artist_path)\n",
    "spotify_artist.info()"
   ],
   "metadata": {
    "collapsed": false
   },
   "id": "74157c4f5452cfd5"
  },
  {
   "cell_type": "code",
   "execution_count": null,
   "outputs": [],
   "source": [
    "spotify_artist_info = pd.read_csv(spotify_artist_path)\n",
    "spotify_artist_info.info()"
   ],
   "metadata": {
    "collapsed": false
   },
   "id": "ebe1d7fbe7063034"
  },
  {
   "cell_type": "code",
   "execution_count": null,
   "outputs": [],
   "source": [
    "wikidata_artist = pd.read_csv(wikidata_artists_path)\n",
    "wikidata_artist.info()"
   ],
   "metadata": {
    "collapsed": false
   },
   "id": "5eda0d275249da10"
  },
  {
   "cell_type": "code",
   "execution_count": null,
   "outputs": [],
   "source": [
    "spotify_album = pd.read_csv(spotify_album_path)\n",
    "spotify_album.info()"
   ],
   "metadata": {
    "collapsed": false
   },
   "id": "ffbecdb820942b89"
  },
  {
   "cell_type": "code",
   "execution_count": null,
   "outputs": [],
   "source": [
    "youtube_api_channels = pd.read_csv(youtube_api_channels_path)\n",
    "youtube_api_channels.info()"
   ],
   "metadata": {
    "collapsed": false
   },
   "id": "ad49c57f8805d84e"
  },
  {
   "cell_type": "code",
   "execution_count": null,
   "outputs": [],
   "source": [
    "wikidata_awards = pd.read_csv(wikidata_awards_path)\n",
    "wikidata_awards.info()"
   ],
   "metadata": {
    "collapsed": false
   },
   "id": "70147b3d8307e1a0"
  },
  {
   "cell_type": "code",
   "execution_count": null,
   "outputs": [],
   "source": [
    "wikidata_awards_statements = pd.read_csv(wikidata_award_statements_path)\n",
    "wikidata_awards_statements.info()"
   ],
   "metadata": {
    "collapsed": false
   },
   "id": "84029d3d90891f8e"
  },
  {
   "cell_type": "markdown",
   "source": [
    "### rdflib setup"
   ],
   "metadata": {
    "collapsed": false
   },
   "id": "e963da9ae0b06b67"
  },
  {
   "cell_type": "code",
   "execution_count": 16,
   "outputs": [],
   "source": [
    "# Set the countries and the SoundGraph ontologies namespaces (not known by rdflib)\n",
    "CNS = Namespace(\"http://eulersharp.sourceforge.net/2003/03swap/countries#\")\n",
    "SG = Namespace(\"https://www.dei.unipd.it/db2/ontology/soundgraph#\")\n",
    "\n",
    "# create the graph\n",
    "g = Graph()\n",
    "\n",
    "# bind the namespaces to a prefix\n",
    "g.bind(\"foaf\", FOAF)\n",
    "g.bind(\"xsd\", XSD)\n",
    "g.bind(\"countries\", CNS)\n",
    "g.bind(\"sg\", SG)"
   ],
   "metadata": {
    "collapsed": false
   },
   "id": "bfa59de377b09a98"
  },
  {
   "cell_type": "code",
   "execution_count": 17,
   "outputs": [],
   "source": [
    "# util function to dump the graph in a file and get a new empty graph with the bindings already set\n",
    "def write_and_empty_graph(graph, filename):\n",
    "    with open(rdf_path + filename, 'w') as file:\n",
    "        file.write(graph.serialize(format='turtle'))\n",
    "        \n",
    "    graph = Graph()\n",
    "    graph.bind(\"foaf\", FOAF)\n",
    "    graph.bind(\"xsd\", XSD)\n",
    "    graph.bind(\"countries\", CNS)\n",
    "    graph.bind(\"sg\", SG)\n",
    "    return graph"
   ],
   "metadata": {
    "collapsed": false
   },
   "id": "3d744f1559aa261f"
  },
  {
   "cell_type": "code",
   "execution_count": null,
   "outputs": [],
   "source": [
    "# TODO rdflib"
   ],
   "metadata": {
    "collapsed": false
   },
   "id": "d310a2c165362c40"
  }
 ],
 "metadata": {
  "kernelspec": {
   "name": "db2",
   "language": "python",
   "display_name": "db2"
  },
  "language_info": {
   "codemirror_mode": {
    "name": "ipython",
    "version": 2
   },
   "file_extension": ".py",
   "mimetype": "text/x-python",
   "name": "python",
   "nbconvert_exporter": "python",
   "pygments_lexer": "ipython2",
   "version": "2.7.6"
  }
 },
 "nbformat": 4,
 "nbformat_minor": 5
}
