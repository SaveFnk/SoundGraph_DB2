{
 "cells": [
  {
   "cell_type": "code",
   "execution_count": 17,
   "id": "initial_id",
   "metadata": {
    "collapsed": true,
    "ExecuteTime": {
     "end_time": "2023-12-02T14:54:33.215177200Z",
     "start_time": "2023-12-02T14:54:33.174167300Z"
    }
   },
   "outputs": [],
   "source": [
    "import pandas as pd"
   ]
  },
  {
   "cell_type": "code",
   "execution_count": 96,
   "outputs": [
    {
     "data": {
      "text/plain": "     award_id                                         award_name  \\\n0           0                                        MOJO Awards   \n1           1  Grammy Award for Best Rock Performance by a Du...   \n2           2              MTV Europe Music Award for Best Album   \n3           3                   Grammy Award for Best Rock Album   \n4           4       Grammy Award for Best Dance/Electronic Album   \n..        ...                                                ...   \n188       188      Latin Grammy Award for Best Recording Package   \n189       189         First prize of the Eurovision Song Contest   \n190       190         MTV Europe Music Award for Best Korean Act   \n191       191                     P3 Gull for Artist of the Year   \n192       192                                       Premios Musa   \n\n                                     award_type  \\\n0                                   MOJO Awards   \n1                                  Grammy Award   \n2                        MTV Europe Music Award   \n3                                  Grammy Award   \n4                                  Grammy Award   \n..                                          ...   \n188                          Latin Grammy Award   \n189  First prize of the Eurovision Song Contest   \n190                      MTV Europe Music Award   \n191                                     P3 Gull   \n192                                Premios Musa   \n\n                                        award_category  \n0                                                  NaN  \n1    Best Rock Performance by a Duo or Group with V...  \n2                                           Best Album  \n3                                      Best Rock Album  \n4                          Best Dance/Electronic Album  \n..                                                 ...  \n188                             Best Recording Package  \n189                                                NaN  \n190                                    Best Korean Act  \n191                                 Artist of the Year  \n192                                                NaN  \n\n[193 rows x 4 columns]",
      "text/html": "<div>\n<style scoped>\n    .dataframe tbody tr th:only-of-type {\n        vertical-align: middle;\n    }\n\n    .dataframe tbody tr th {\n        vertical-align: top;\n    }\n\n    .dataframe thead th {\n        text-align: right;\n    }\n</style>\n<table border=\"1\" class=\"dataframe\">\n  <thead>\n    <tr style=\"text-align: right;\">\n      <th></th>\n      <th>award_id</th>\n      <th>award_name</th>\n      <th>award_type</th>\n      <th>award_category</th>\n    </tr>\n  </thead>\n  <tbody>\n    <tr>\n      <th>0</th>\n      <td>0</td>\n      <td>MOJO Awards</td>\n      <td>MOJO Awards</td>\n      <td>NaN</td>\n    </tr>\n    <tr>\n      <th>1</th>\n      <td>1</td>\n      <td>Grammy Award for Best Rock Performance by a Du...</td>\n      <td>Grammy Award</td>\n      <td>Best Rock Performance by a Duo or Group with V...</td>\n    </tr>\n    <tr>\n      <th>2</th>\n      <td>2</td>\n      <td>MTV Europe Music Award for Best Album</td>\n      <td>MTV Europe Music Award</td>\n      <td>Best Album</td>\n    </tr>\n    <tr>\n      <th>3</th>\n      <td>3</td>\n      <td>Grammy Award for Best Rock Album</td>\n      <td>Grammy Award</td>\n      <td>Best Rock Album</td>\n    </tr>\n    <tr>\n      <th>4</th>\n      <td>4</td>\n      <td>Grammy Award for Best Dance/Electronic Album</td>\n      <td>Grammy Award</td>\n      <td>Best Dance/Electronic Album</td>\n    </tr>\n    <tr>\n      <th>...</th>\n      <td>...</td>\n      <td>...</td>\n      <td>...</td>\n      <td>...</td>\n    </tr>\n    <tr>\n      <th>188</th>\n      <td>188</td>\n      <td>Latin Grammy Award for Best Recording Package</td>\n      <td>Latin Grammy Award</td>\n      <td>Best Recording Package</td>\n    </tr>\n    <tr>\n      <th>189</th>\n      <td>189</td>\n      <td>First prize of the Eurovision Song Contest</td>\n      <td>First prize of the Eurovision Song Contest</td>\n      <td>NaN</td>\n    </tr>\n    <tr>\n      <th>190</th>\n      <td>190</td>\n      <td>MTV Europe Music Award for Best Korean Act</td>\n      <td>MTV Europe Music Award</td>\n      <td>Best Korean Act</td>\n    </tr>\n    <tr>\n      <th>191</th>\n      <td>191</td>\n      <td>P3 Gull for Artist of the Year</td>\n      <td>P3 Gull</td>\n      <td>Artist of the Year</td>\n    </tr>\n    <tr>\n      <th>192</th>\n      <td>192</td>\n      <td>Premios Musa</td>\n      <td>Premios Musa</td>\n      <td>NaN</td>\n    </tr>\n  </tbody>\n</table>\n<p>193 rows × 4 columns</p>\n</div>"
     },
     "execution_count": 96,
     "metadata": {},
     "output_type": "execute_result"
    }
   ],
   "source": [
    "awards = pd.read_csv('../data/wikidata_awards.csv')\n",
    "awards"
   ],
   "metadata": {
    "collapsed": false,
    "ExecuteTime": {
     "end_time": "2023-12-02T16:29:03.061014600Z",
     "start_time": "2023-12-02T16:29:03.048974100Z"
    }
   },
   "id": "adc3970d261eb1e"
  },
  {
   "cell_type": "code",
   "execution_count": 19,
   "outputs": [
    {
     "data": {
      "text/plain": "           artist_spotify_id  award_id award_year\n0     0L8ExT028jH3ddEcZwqJJ5         0          _\n1     0L8ExT028jH3ddEcZwqJJ5         1       2006\n2     0L8ExT028jH3ddEcZwqJJ5         2       2006\n3     0L8ExT028jH3ddEcZwqJJ5         3       2006\n4     4tZwfgrHOc3mvqYlEYSvVi         4       2008\n...                      ...       ...        ...\n997   0ghlgldX5Dd6720Q3qFyQB       186       2020\n998   2KC9Qb60EaY0kW4eH68vr3       186       2020\n999   4yxLYO2imECxGYTTV7RQKb       192          _\n1000  5t5FqBwTcgKTaWmfEbwQY9       186       2021\n1001  6PvvGcCY2XtUcSRld1Wilr        16       2022\n\n[1002 rows x 3 columns]",
      "text/html": "<div>\n<style scoped>\n    .dataframe tbody tr th:only-of-type {\n        vertical-align: middle;\n    }\n\n    .dataframe tbody tr th {\n        vertical-align: top;\n    }\n\n    .dataframe thead th {\n        text-align: right;\n    }\n</style>\n<table border=\"1\" class=\"dataframe\">\n  <thead>\n    <tr style=\"text-align: right;\">\n      <th></th>\n      <th>artist_spotify_id</th>\n      <th>award_id</th>\n      <th>award_year</th>\n    </tr>\n  </thead>\n  <tbody>\n    <tr>\n      <th>0</th>\n      <td>0L8ExT028jH3ddEcZwqJJ5</td>\n      <td>0</td>\n      <td>_</td>\n    </tr>\n    <tr>\n      <th>1</th>\n      <td>0L8ExT028jH3ddEcZwqJJ5</td>\n      <td>1</td>\n      <td>2006</td>\n    </tr>\n    <tr>\n      <th>2</th>\n      <td>0L8ExT028jH3ddEcZwqJJ5</td>\n      <td>2</td>\n      <td>2006</td>\n    </tr>\n    <tr>\n      <th>3</th>\n      <td>0L8ExT028jH3ddEcZwqJJ5</td>\n      <td>3</td>\n      <td>2006</td>\n    </tr>\n    <tr>\n      <th>4</th>\n      <td>4tZwfgrHOc3mvqYlEYSvVi</td>\n      <td>4</td>\n      <td>2008</td>\n    </tr>\n    <tr>\n      <th>...</th>\n      <td>...</td>\n      <td>...</td>\n      <td>...</td>\n    </tr>\n    <tr>\n      <th>997</th>\n      <td>0ghlgldX5Dd6720Q3qFyQB</td>\n      <td>186</td>\n      <td>2020</td>\n    </tr>\n    <tr>\n      <th>998</th>\n      <td>2KC9Qb60EaY0kW4eH68vr3</td>\n      <td>186</td>\n      <td>2020</td>\n    </tr>\n    <tr>\n      <th>999</th>\n      <td>4yxLYO2imECxGYTTV7RQKb</td>\n      <td>192</td>\n      <td>_</td>\n    </tr>\n    <tr>\n      <th>1000</th>\n      <td>5t5FqBwTcgKTaWmfEbwQY9</td>\n      <td>186</td>\n      <td>2021</td>\n    </tr>\n    <tr>\n      <th>1001</th>\n      <td>6PvvGcCY2XtUcSRld1Wilr</td>\n      <td>16</td>\n      <td>2022</td>\n    </tr>\n  </tbody>\n</table>\n<p>1002 rows × 3 columns</p>\n</div>"
     },
     "execution_count": 19,
     "metadata": {},
     "output_type": "execute_result"
    }
   ],
   "source": [
    "statements = pd.read_csv('../data/wikidata_award_statements.csv')\n",
    "statements"
   ],
   "metadata": {
    "collapsed": false,
    "ExecuteTime": {
     "end_time": "2023-12-02T14:54:33.577177900Z",
     "start_time": "2023-12-02T14:54:33.405179500Z"
    }
   },
   "id": "4593878889e726d9"
  },
  {
   "cell_type": "code",
   "execution_count": 97,
   "outputs": [],
   "source": [
    "for index, row in awards.iterrows():\n",
    "    aType = row['award_type'].split(' – ', maxsplit=1)\n",
    "    if len(aType) == 1:\n",
    "        aType = row['award_type'].split(' - ', maxsplit=1)\n",
    "    awards.at[index, 'award_type'] = aType[0]\n",
    "    if len(aType) > 1:\n",
    "        awards.at[index, 'award_category'] = aType[1]"
   ],
   "metadata": {
    "collapsed": false,
    "ExecuteTime": {
     "end_time": "2023-12-02T16:29:05.607709Z",
     "start_time": "2023-12-02T16:29:05.599692900Z"
    }
   },
   "id": "20e2a60090464df7"
  },
  {
   "cell_type": "code",
   "execution_count": 98,
   "outputs": [
    {
     "data": {
      "text/plain": "     award_id                                         award_name  \\\n0           0                                        MOJO Awards   \n1           1  Grammy Award for Best Rock Performance by a Du...   \n2           2              MTV Europe Music Award for Best Album   \n3           3                   Grammy Award for Best Rock Album   \n4           4       Grammy Award for Best Dance/Electronic Album   \n..        ...                                                ...   \n188       188      Latin Grammy Award for Best Recording Package   \n189       189         First prize of the Eurovision Song Contest   \n190       190         MTV Europe Music Award for Best Korean Act   \n191       191                     P3 Gull for Artist of the Year   \n192       192                                       Premios Musa   \n\n                                     award_type  \\\n0                                   MOJO Awards   \n1                                  Grammy Award   \n2                        MTV Europe Music Award   \n3                                  Grammy Award   \n4                                  Grammy Award   \n..                                          ...   \n188                          Latin Grammy Award   \n189  First prize of the Eurovision Song Contest   \n190                      MTV Europe Music Award   \n191                                     P3 Gull   \n192                                Premios Musa   \n\n                                        award_category  \n0                                                  NaN  \n1    Best Rock Performance by a Duo or Group with V...  \n2                                           Best Album  \n3                                      Best Rock Album  \n4                          Best Dance/Electronic Album  \n..                                                 ...  \n188                             Best Recording Package  \n189                                                NaN  \n190                                    Best Korean Act  \n191                                 Artist of the Year  \n192                                                NaN  \n\n[193 rows x 4 columns]",
      "text/html": "<div>\n<style scoped>\n    .dataframe tbody tr th:only-of-type {\n        vertical-align: middle;\n    }\n\n    .dataframe tbody tr th {\n        vertical-align: top;\n    }\n\n    .dataframe thead th {\n        text-align: right;\n    }\n</style>\n<table border=\"1\" class=\"dataframe\">\n  <thead>\n    <tr style=\"text-align: right;\">\n      <th></th>\n      <th>award_id</th>\n      <th>award_name</th>\n      <th>award_type</th>\n      <th>award_category</th>\n    </tr>\n  </thead>\n  <tbody>\n    <tr>\n      <th>0</th>\n      <td>0</td>\n      <td>MOJO Awards</td>\n      <td>MOJO Awards</td>\n      <td>NaN</td>\n    </tr>\n    <tr>\n      <th>1</th>\n      <td>1</td>\n      <td>Grammy Award for Best Rock Performance by a Du...</td>\n      <td>Grammy Award</td>\n      <td>Best Rock Performance by a Duo or Group with V...</td>\n    </tr>\n    <tr>\n      <th>2</th>\n      <td>2</td>\n      <td>MTV Europe Music Award for Best Album</td>\n      <td>MTV Europe Music Award</td>\n      <td>Best Album</td>\n    </tr>\n    <tr>\n      <th>3</th>\n      <td>3</td>\n      <td>Grammy Award for Best Rock Album</td>\n      <td>Grammy Award</td>\n      <td>Best Rock Album</td>\n    </tr>\n    <tr>\n      <th>4</th>\n      <td>4</td>\n      <td>Grammy Award for Best Dance/Electronic Album</td>\n      <td>Grammy Award</td>\n      <td>Best Dance/Electronic Album</td>\n    </tr>\n    <tr>\n      <th>...</th>\n      <td>...</td>\n      <td>...</td>\n      <td>...</td>\n      <td>...</td>\n    </tr>\n    <tr>\n      <th>188</th>\n      <td>188</td>\n      <td>Latin Grammy Award for Best Recording Package</td>\n      <td>Latin Grammy Award</td>\n      <td>Best Recording Package</td>\n    </tr>\n    <tr>\n      <th>189</th>\n      <td>189</td>\n      <td>First prize of the Eurovision Song Contest</td>\n      <td>First prize of the Eurovision Song Contest</td>\n      <td>NaN</td>\n    </tr>\n    <tr>\n      <th>190</th>\n      <td>190</td>\n      <td>MTV Europe Music Award for Best Korean Act</td>\n      <td>MTV Europe Music Award</td>\n      <td>Best Korean Act</td>\n    </tr>\n    <tr>\n      <th>191</th>\n      <td>191</td>\n      <td>P3 Gull for Artist of the Year</td>\n      <td>P3 Gull</td>\n      <td>Artist of the Year</td>\n    </tr>\n    <tr>\n      <th>192</th>\n      <td>192</td>\n      <td>Premios Musa</td>\n      <td>Premios Musa</td>\n      <td>NaN</td>\n    </tr>\n  </tbody>\n</table>\n<p>193 rows × 4 columns</p>\n</div>"
     },
     "execution_count": 98,
     "metadata": {},
     "output_type": "execute_result"
    }
   ],
   "source": [
    "awards"
   ],
   "metadata": {
    "collapsed": false,
    "ExecuteTime": {
     "end_time": "2023-12-02T16:29:07.890332800Z",
     "start_time": "2023-12-02T16:29:07.865336500Z"
    }
   },
   "id": "bd7b1106ddfec934"
  },
  {
   "cell_type": "code",
   "execution_count": 99,
   "outputs": [
    {
     "data": {
      "text/plain": "     award_id                                         award_name  \\\n0           0                                        MOJO Awards   \n1           1  Grammy Award for Best Rock Performance by a Du...   \n2           2              MTV Europe Music Award for Best Album   \n3           3                   Grammy Award for Best Rock Album   \n4           4       Grammy Award for Best Dance/Electronic Album   \n..        ...                                                ...   \n188       188      Latin Grammy Award for Best Recording Package   \n189       189         First prize of the Eurovision Song Contest   \n190       190         MTV Europe Music Award for Best Korean Act   \n191       191                     P3 Gull for Artist of the Year   \n192       192                                       Premios Musa   \n\n                                     award_type  \\\n0                                   MOJO Awards   \n1                                  Grammy Award   \n2                        MTV Europe Music Award   \n3                                  Grammy Award   \n4                                  Grammy Award   \n..                                          ...   \n188                          Latin Grammy Award   \n189  First prize of the Eurovision Song Contest   \n190                      MTV Europe Music Award   \n191                                     P3 Gull   \n192                                Premios Musa   \n\n                                        award_category award_class  \n0                                                  NaN     Generic  \n1    Best Rock Performance by a Duo or Group with V...      Grammy  \n2                                           Best Album         MTV  \n3                                      Best Rock Album      Grammy  \n4                          Best Dance/Electronic Album      Grammy  \n..                                                 ...         ...  \n188                             Best Recording Package      Grammy  \n189                                                NaN     Generic  \n190                                    Best Korean Act         MTV  \n191                                 Artist of the Year     Generic  \n192                                                NaN     Generic  \n\n[193 rows x 5 columns]",
      "text/html": "<div>\n<style scoped>\n    .dataframe tbody tr th:only-of-type {\n        vertical-align: middle;\n    }\n\n    .dataframe tbody tr th {\n        vertical-align: top;\n    }\n\n    .dataframe thead th {\n        text-align: right;\n    }\n</style>\n<table border=\"1\" class=\"dataframe\">\n  <thead>\n    <tr style=\"text-align: right;\">\n      <th></th>\n      <th>award_id</th>\n      <th>award_name</th>\n      <th>award_type</th>\n      <th>award_category</th>\n      <th>award_class</th>\n    </tr>\n  </thead>\n  <tbody>\n    <tr>\n      <th>0</th>\n      <td>0</td>\n      <td>MOJO Awards</td>\n      <td>MOJO Awards</td>\n      <td>NaN</td>\n      <td>Generic</td>\n    </tr>\n    <tr>\n      <th>1</th>\n      <td>1</td>\n      <td>Grammy Award for Best Rock Performance by a Du...</td>\n      <td>Grammy Award</td>\n      <td>Best Rock Performance by a Duo or Group with V...</td>\n      <td>Grammy</td>\n    </tr>\n    <tr>\n      <th>2</th>\n      <td>2</td>\n      <td>MTV Europe Music Award for Best Album</td>\n      <td>MTV Europe Music Award</td>\n      <td>Best Album</td>\n      <td>MTV</td>\n    </tr>\n    <tr>\n      <th>3</th>\n      <td>3</td>\n      <td>Grammy Award for Best Rock Album</td>\n      <td>Grammy Award</td>\n      <td>Best Rock Album</td>\n      <td>Grammy</td>\n    </tr>\n    <tr>\n      <th>4</th>\n      <td>4</td>\n      <td>Grammy Award for Best Dance/Electronic Album</td>\n      <td>Grammy Award</td>\n      <td>Best Dance/Electronic Album</td>\n      <td>Grammy</td>\n    </tr>\n    <tr>\n      <th>...</th>\n      <td>...</td>\n      <td>...</td>\n      <td>...</td>\n      <td>...</td>\n      <td>...</td>\n    </tr>\n    <tr>\n      <th>188</th>\n      <td>188</td>\n      <td>Latin Grammy Award for Best Recording Package</td>\n      <td>Latin Grammy Award</td>\n      <td>Best Recording Package</td>\n      <td>Grammy</td>\n    </tr>\n    <tr>\n      <th>189</th>\n      <td>189</td>\n      <td>First prize of the Eurovision Song Contest</td>\n      <td>First prize of the Eurovision Song Contest</td>\n      <td>NaN</td>\n      <td>Generic</td>\n    </tr>\n    <tr>\n      <th>190</th>\n      <td>190</td>\n      <td>MTV Europe Music Award for Best Korean Act</td>\n      <td>MTV Europe Music Award</td>\n      <td>Best Korean Act</td>\n      <td>MTV</td>\n    </tr>\n    <tr>\n      <th>191</th>\n      <td>191</td>\n      <td>P3 Gull for Artist of the Year</td>\n      <td>P3 Gull</td>\n      <td>Artist of the Year</td>\n      <td>Generic</td>\n    </tr>\n    <tr>\n      <th>192</th>\n      <td>192</td>\n      <td>Premios Musa</td>\n      <td>Premios Musa</td>\n      <td>NaN</td>\n      <td>Generic</td>\n    </tr>\n  </tbody>\n</table>\n<p>193 rows × 5 columns</p>\n</div>"
     },
     "execution_count": 99,
     "metadata": {},
     "output_type": "execute_result"
    }
   ],
   "source": [
    "#mtv grammy americana americanmusic juno spellemann soultrain billboard\n",
    "award_class = []\n",
    "for index, row in awards.iterrows():\n",
    "    award_type = row['award_type']\n",
    "    if 'MTV' in award_type:\n",
    "        award_class.append('MTV')\n",
    "    elif 'Grammy' in award_type:\n",
    "        award_class.append('Grammy')\n",
    "    elif 'Americana' in award_type:\n",
    "        award_class.append('Americana')\n",
    "    elif 'American Music' in award_type:\n",
    "        award_class.append('American Music')\n",
    "    elif 'Juno' in award_type:\n",
    "        award_class.append('Juno')\n",
    "    elif 'Spellemann' in award_type:\n",
    "        award_class.append('Spellemann')\n",
    "    elif 'Soul Train' in award_type:\n",
    "        award_class.append('Soul Train')\n",
    "    elif 'Billboard' in award_type:\n",
    "        award_class.append('Billboard')\n",
    "    else:\n",
    "        award_class.append('Generic')\n",
    "        \n",
    "awards['award_class'] = award_class\n",
    "awards"
   ],
   "metadata": {
    "collapsed": false,
    "ExecuteTime": {
     "end_time": "2023-12-02T16:44:12.581874800Z",
     "start_time": "2023-12-02T16:44:12.520881900Z"
    }
   },
   "id": "3d59a9561f6a6c1"
  },
  {
   "cell_type": "code",
   "execution_count": 20,
   "outputs": [
    {
     "data": {
      "text/plain": "0                                     MOJO Awards\n1                                    Grammy Award\n2                          MTV Europe Music Award\n3                             Johnny Mercer Award\n4               Grammy Lifetime Achievement Award\n                          ...                    \n100                  Soribada Best K-Music Awards\n101                             Seoul Music Award\n102    First prize of the Eurovision Song Contest\n103                                       P3 Gull\n104                                  Premios Musa\nName: award_type, Length: 105, dtype: object"
     },
     "execution_count": 20,
     "metadata": {},
     "output_type": "execute_result"
    }
   ],
   "source": [
    "award_types = awards['award_type'].drop_duplicates().reset_index(drop=True)\n",
    "award_types"
   ],
   "metadata": {
    "collapsed": false,
    "ExecuteTime": {
     "end_time": "2023-12-02T14:54:33.716210400Z",
     "start_time": "2023-12-02T14:54:33.542179300Z"
    }
   },
   "id": "849c0f08fd5253f6"
  },
  {
   "cell_type": "code",
   "execution_count": 30,
   "outputs": [],
   "source": [
    "from collections import Counter"
   ],
   "metadata": {
    "collapsed": false,
    "ExecuteTime": {
     "end_time": "2023-12-02T15:07:29.483565700Z",
     "start_time": "2023-12-02T15:07:29.304592900Z"
    }
   },
   "id": "1cdaf3c212da2ad9"
  },
  {
   "cell_type": "code",
   "execution_count": 0,
   "outputs": [],
   "source": [
    "aw_list = awards['award_type'].tolist()"
   ],
   "metadata": {
    "collapsed": false
   },
   "id": "3730755669715e04"
  },
  {
   "cell_type": "code",
   "execution_count": 36,
   "outputs": [
    {
     "data": {
      "text/plain": "['Grammy Award',\n 'MTV Europe Music Award',\n 'Academy Award',\n 'Latin Grammy Award',\n 'American Music Award',\n 'Juno Award',\n 'Americana Award',\n 'Gramophone Award',\n 'Spellemann Award',\n 'Soul Train Music Award',\n 'Billboard Music Award']"
     },
     "execution_count": 36,
     "metadata": {},
     "output_type": "execute_result"
    }
   ],
   "source": [
    "freq_award = Counter(aw_list)\n",
    "atleast2 = [el for el, freq in freq_award.items() if freq >= 2]\n",
    "atleast2"
   ],
   "metadata": {
    "collapsed": false,
    "ExecuteTime": {
     "end_time": "2023-12-02T15:09:39.160761300Z",
     "start_time": "2023-12-02T15:09:38.954192600Z"
    }
   },
   "id": "c2878a249498d95a"
  },
  {
   "cell_type": "code",
   "execution_count": 48,
   "outputs": [
    {
     "data": {
      "text/plain": "['Grammy',\n 'MTV',\n 'Academy',\n 'Grammy',\n 'American',\n 'Juno',\n 'Americana',\n 'Gramophone',\n 'Spellemann',\n 'Soul',\n 'Train',\n 'Billboard']"
     },
     "execution_count": 48,
     "metadata": {},
     "output_type": "execute_result"
    }
   ],
   "source": [
    "# award, music, europe, latin\n",
    "tokens = [word for atype in atleast2 for word in atype.split() if word not in ['Award', 'Music', 'Europe', 'Latin']]\n",
    "tokens"
   ],
   "metadata": {
    "collapsed": false,
    "ExecuteTime": {
     "end_time": "2023-12-02T15:25:44.574308Z",
     "start_time": "2023-12-02T15:25:44.414933Z"
    }
   },
   "id": "3fde511075976b98"
  },
  {
   "cell_type": "code",
   "execution_count": 51,
   "outputs": [],
   "source": [
    "selected2 = awards[awards['award_type'].str.contains(' |'.join(tokens)+' ', case=False)]"
   ],
   "metadata": {
    "collapsed": false,
    "ExecuteTime": {
     "end_time": "2023-12-02T15:28:12.861285100Z",
     "start_time": "2023-12-02T15:28:12.434972Z"
    }
   },
   "id": "77eab729fe0437cf"
  },
  {
   "cell_type": "code",
   "execution_count": 52,
   "outputs": [
    {
     "data": {
      "text/plain": "total                      193.000000\natleast2                   113.000000\nmaintained2                  0.585492\nloss2                        0.414508\nstatements_total          1002.000000\nstatements_atleast2        729.000000\nstatements_maintained2       0.727545\nstatements_loss2             0.272455\nName: 0, dtype: float64"
     },
     "execution_count": 52,
     "metadata": {},
     "output_type": "execute_result"
    }
   ],
   "source": [
    "pd.DataFrame({\n",
    "    'total': [int(len(awards))],\n",
    "    'atleast2': [len(selected2)],\n",
    "    'maintained2': [len(selected2)/len(awards)],\n",
    "    'loss2': [1-len(selected2)/len(awards)],\n",
    "    'statements_total': [len(statements)],\n",
    "    'statements_atleast2': [len(statements[statements['award_id'].isin(selected2['award_id'].drop_duplicates())])],\n",
    "    'statements_maintained2': [len(statements[statements['award_id'].isin(selected2['award_id'].drop_duplicates())]) / len(statements)],\n",
    "    'statements_loss2': [1-len(statements[statements['award_id'].isin(selected2['award_id'].drop_duplicates())]) / len(statements)]\n",
    "}).iloc[0]"
   ],
   "metadata": {
    "collapsed": false,
    "ExecuteTime": {
     "end_time": "2023-12-02T15:28:17.054941500Z",
     "start_time": "2023-12-02T15:28:17.031941700Z"
    }
   },
   "id": "e0c58a60d368442e"
  },
  {
   "cell_type": "markdown",
   "source": [
    "### Prove andrea"
   ],
   "metadata": {
    "collapsed": false
   },
   "id": "c46c8339544e4fa8"
  },
  {
   "cell_type": "code",
   "execution_count": 59,
   "outputs": [
    {
     "data": {
      "text/plain": "Counter({'grammy': 53,\n         'mtv': 17,\n         'juno': 12,\n         'american': 7,\n         'spellemann': 6,\n         'academy': 4,\n         'billboard': 4,\n         'echo': 4,\n         'americana': 4,\n         'soul': 4,\n         'train': 4,\n         'golden': 3,\n         'best': 3,\n         'country': 3,\n         'favorite': 3,\n         'artist': 3,\n         'von': 3,\n         'medal': 3,\n         'premios': 2,\n         'harp': 2,\n         'film': 2,\n         'association': 2,\n         'international': 2,\n         'gramophone': 2,\n         'new': 2,\n         'klassik': 2,\n         'spellemannprisen': 2,\n         'italian': 2,\n         '21': 2,\n         'choice': 2,\n         'p3': 2,\n         'mojo': 1,\n         'johnny': 1,\n         'mercer': 1,\n         'los': 1,\n         'latinoamérica': 1,\n         'trustees': 1,\n         'silver': 1,\n         'musicares': 1,\n         'person': 1,\n         'globe': 1,\n         'rockbjörnen': 1,\n         'viva': 1,\n         'comet': 1,\n         'bollywood': 1,\n         'movie': 1,\n         '–': 1,\n         'director': 1,\n         'broadcast': 1,\n         'critics': 1,\n         'bafta': 1,\n         'polar': 1,\n         'gershwin': 1,\n         'ascap': 1,\n         'heritage': 1,\n         'willie': 1,\n         'nelson': 1,\n         '\"spirit': 1,\n         'americana\"': 1,\n         'free': 1,\n         'speech': 1,\n         'saturn': 1,\n         'dance': 1,\n         'jack': 1,\n         'richardson': 1,\n         'producer': 1,\n         'georgia': 1,\n         'hall': 1,\n         'fame': 1,\n         'qq': 1,\n         'herbert': 1,\n         'karajan': 1,\n         'ensemble/orchestra': 1,\n         'jury': 1,\n         'honorary': 1,\n         'in': 1,\n         'shortlist': 1,\n         'male': 1,\n         'record': 1,\n         'prêmio': 1,\n         'da': 1,\n         'música': 1,\n         'brasileira': 1,\n         'glenn': 1,\n         'gould': 1,\n         'avery': 1,\n         'fisher': 1,\n         'léonie': 1,\n         'sonning': 1,\n         '-': 1,\n         'instrumentalist': 1,\n         'mobo': 1,\n         'hans': 1,\n         'bülow': 1,\n         'ernst': 1,\n         'siemens': 1,\n         'royal': 1,\n         'philharmonic': 1,\n         'society': 1,\n         'gold': 1,\n         'sibelius': 1,\n         'covenant': 1,\n         'european': 1,\n         'pop': 1,\n         'muuvi': 1,\n         'goya': 1,\n         'satellite': 1,\n         'pulitzer': 1,\n         'icelandic': 1,\n         'paul-lincke-ring': 1,\n         'gaffa-prisen': 1,\n         'paul': 1,\n         'acket': 1,\n         'franco': 1,\n         'abbiati': 1,\n         'robert': 1,\n         'schumann': 1,\n         'city': 1,\n         'zwickau': 1,\n         'qwartz': 1,\n         'electronic': 1,\n         'nordic': 1,\n         'council': 1,\n         'trailblazer': 1,\n         'preis': 1,\n         'für': 1,\n         'popkultur': 1,\n         'disk': 1,\n         'los40': 1,\n         'youtube': 1,\n         'kerrang!': 1,\n         'south': 1,\n         'african': 1,\n         'all': 1,\n         'africa': 1,\n         '1': 1,\n         'live': 1,\n         'krone': 1,\n         'gospel/inspirational': 1,\n         'stellar': 1,\n         'adult': 1,\n         'contemporary': 1,\n         'under': 1,\n         'teen': 1,\n         'brit': 1,\n         'edison': 1,\n         'premio': 1,\n         'lo': 1,\n         'nuestro': 1,\n         'iheartradio': 1,\n         \"kids'\": 1,\n         'glaad': 1,\n         'media': 1,\n         'miaw': 1,\n         'brazil': 1,\n         'soribada': 1,\n         'k-music': 1,\n         'seoul': 1,\n         'first': 1,\n         'eurovision': 1,\n         'song': 1,\n         'contest': 1,\n         'gull': 1,\n         'musa': 1})"
     },
     "execution_count": 59,
     "metadata": {},
     "output_type": "execute_result"
    }
   ],
   "source": [
    "stoplist = ['for', 'of', 'award', 'awards', 'music', 'the', 'prize', 'achievement', 'europe', 'year', 'latin', 'lifetime']\n",
    "word_list = [word.lower() for item in aw_list for word in item.split() if word.lower() not in stoplist]\n",
    "freqs = Counter(word_list)\n",
    "freqs"
   ],
   "metadata": {
    "collapsed": false,
    "ExecuteTime": {
     "end_time": "2023-12-02T15:32:03.438067200Z",
     "start_time": "2023-12-02T15:32:03.279726900Z"
    }
   },
   "id": "81a642c4baec546c"
  },
  {
   "cell_type": "code",
   "execution_count": 60,
   "outputs": [
    {
     "name": "stdout",
     "output_type": "stream",
     "text": [
      "['grammy', 'mtv', 'academy', 'billboard', 'american', 'echo', 'juno', 'americana', 'spellemann', 'soul', 'train']\n",
      "['grammy', 'mtv', 'american', 'juno', 'spellemann']\n",
      "['grammy', 'mtv', 'academy', 'premios', 'billboard', 'american', 'harp', 'golden', 'echo', 'best', 'film', 'association', 'juno', 'americana', 'international', 'gramophone', 'country', 'favorite', 'new', 'artist', 'von', 'klassik', 'spellemann', 'spellemannprisen', 'medal', 'soul', 'train', 'italian', '21', 'choice', 'p3']\n",
      "grammy |mtv |academy |billboard |american |echo |juno |americana |spellemann |soul |train\n",
      "grammy |mtv |american |juno |spellemann\n",
      "grammy |mtv |academy |premios |billboard |american |harp |golden |echo |best |film |association |juno |americana |international |gramophone |country |favorite |new |artist |von |klassik |spellemann |spellemannprisen |medal |soul |train |italian |21 |choice |p3\n"
     ]
    }
   ],
   "source": [
    "atleast4 = [el for el, freq in freqs.items() if freq >= 4]\n",
    "atleast5 = [el for el, freq in freqs.items() if freq >= 5]\n",
    "atleast_2 = [el for el, freq in freqs.items() if freq >= 2]\n",
    "print(atleast4)\n",
    "print(atleast5)\n",
    "print(atleast_2)\n",
    "\n",
    "print(' |'.join(atleast4))\n",
    "print(' |'.join(atleast5))\n",
    "print(' |'.join(atleast_2))"
   ],
   "metadata": {
    "collapsed": false,
    "ExecuteTime": {
     "end_time": "2023-12-02T15:32:05.416548Z",
     "start_time": "2023-12-02T15:32:05.358550Z"
    }
   },
   "id": "7234951683d79329"
  },
  {
   "cell_type": "code",
   "execution_count": 61,
   "outputs": [],
   "source": [
    "selected4 = awards[awards['award_type'].str.contains(' |'.join(atleast4)+' ', case=False)]\n",
    "selected5 = awards[awards['award_type'].str.contains(' |'.join(atleast5)+' ', case=False)]\n",
    "selected2 = awards[awards['award_type'].str.contains(' |'.join(atleast_2)+' ', case=False)]"
   ],
   "metadata": {
    "collapsed": false,
    "ExecuteTime": {
     "end_time": "2023-12-02T15:32:07.509998100Z",
     "start_time": "2023-12-02T15:32:07.502999700Z"
    }
   },
   "id": "e6a258c0a8d2836"
  },
  {
   "cell_type": "code",
   "execution_count": 62,
   "outputs": [
    {
     "data": {
      "text/plain": "     award_id                                         award_name  \\\n1           1  Grammy Award for Best Rock Performance by a Du...   \n2           2              MTV Europe Music Award for Best Album   \n3           3                   Grammy Award for Best Rock Album   \n4           4       Grammy Award for Best Dance/Electronic Album   \n5           5                 Grammy Award for Album of the Year   \n..        ...                                                ...   \n187       187       Latin Grammy Award for Best Rap/Hip Hop Song   \n188       188      Latin Grammy Award for Best Recording Package   \n190       190         MTV Europe Music Award for Best Korean Act   \n191       191                     P3 Gull for Artist of the Year   \n192       192                                       Premios Musa   \n\n                 award_type                                     award_category  \n1              Grammy Award  Best Rock Performance by a Duo or Group with V...  \n2    MTV Europe Music Award                                         Best Album  \n3              Grammy Award                                    Best Rock Album  \n4              Grammy Award                        Best Dance/Electronic Album  \n5              Grammy Award                                  Album of the Year  \n..                      ...                                                ...  \n187      Latin Grammy Award                              Best Rap/Hip Hop Song  \n188      Latin Grammy Award                             Best Recording Package  \n190  MTV Europe Music Award                                    Best Korean Act  \n191                 P3 Gull                                 Artist of the Year  \n192            Premios Musa                                                NaN  \n\n[139 rows x 4 columns]",
      "text/html": "<div>\n<style scoped>\n    .dataframe tbody tr th:only-of-type {\n        vertical-align: middle;\n    }\n\n    .dataframe tbody tr th {\n        vertical-align: top;\n    }\n\n    .dataframe thead th {\n        text-align: right;\n    }\n</style>\n<table border=\"1\" class=\"dataframe\">\n  <thead>\n    <tr style=\"text-align: right;\">\n      <th></th>\n      <th>award_id</th>\n      <th>award_name</th>\n      <th>award_type</th>\n      <th>award_category</th>\n    </tr>\n  </thead>\n  <tbody>\n    <tr>\n      <th>1</th>\n      <td>1</td>\n      <td>Grammy Award for Best Rock Performance by a Du...</td>\n      <td>Grammy Award</td>\n      <td>Best Rock Performance by a Duo or Group with V...</td>\n    </tr>\n    <tr>\n      <th>2</th>\n      <td>2</td>\n      <td>MTV Europe Music Award for Best Album</td>\n      <td>MTV Europe Music Award</td>\n      <td>Best Album</td>\n    </tr>\n    <tr>\n      <th>3</th>\n      <td>3</td>\n      <td>Grammy Award for Best Rock Album</td>\n      <td>Grammy Award</td>\n      <td>Best Rock Album</td>\n    </tr>\n    <tr>\n      <th>4</th>\n      <td>4</td>\n      <td>Grammy Award for Best Dance/Electronic Album</td>\n      <td>Grammy Award</td>\n      <td>Best Dance/Electronic Album</td>\n    </tr>\n    <tr>\n      <th>5</th>\n      <td>5</td>\n      <td>Grammy Award for Album of the Year</td>\n      <td>Grammy Award</td>\n      <td>Album of the Year</td>\n    </tr>\n    <tr>\n      <th>...</th>\n      <td>...</td>\n      <td>...</td>\n      <td>...</td>\n      <td>...</td>\n    </tr>\n    <tr>\n      <th>187</th>\n      <td>187</td>\n      <td>Latin Grammy Award for Best Rap/Hip Hop Song</td>\n      <td>Latin Grammy Award</td>\n      <td>Best Rap/Hip Hop Song</td>\n    </tr>\n    <tr>\n      <th>188</th>\n      <td>188</td>\n      <td>Latin Grammy Award for Best Recording Package</td>\n      <td>Latin Grammy Award</td>\n      <td>Best Recording Package</td>\n    </tr>\n    <tr>\n      <th>190</th>\n      <td>190</td>\n      <td>MTV Europe Music Award for Best Korean Act</td>\n      <td>MTV Europe Music Award</td>\n      <td>Best Korean Act</td>\n    </tr>\n    <tr>\n      <th>191</th>\n      <td>191</td>\n      <td>P3 Gull for Artist of the Year</td>\n      <td>P3 Gull</td>\n      <td>Artist of the Year</td>\n    </tr>\n    <tr>\n      <th>192</th>\n      <td>192</td>\n      <td>Premios Musa</td>\n      <td>Premios Musa</td>\n      <td>NaN</td>\n    </tr>\n  </tbody>\n</table>\n<p>139 rows × 4 columns</p>\n</div>"
     },
     "execution_count": 62,
     "metadata": {},
     "output_type": "execute_result"
    }
   ],
   "source": [
    "selected2"
   ],
   "metadata": {
    "collapsed": false,
    "ExecuteTime": {
     "end_time": "2023-12-02T15:32:09.868508300Z",
     "start_time": "2023-12-02T15:32:09.835666100Z"
    }
   },
   "id": "98307764d3a2002f"
  },
  {
   "cell_type": "code",
   "execution_count": 24,
   "outputs": [
    {
     "data": {
      "text/plain": "     award_id                                         award_name  \\\n1           1  Grammy Award for Best Rock Performance by a Du...   \n2           2              MTV Europe Music Award for Best Album   \n3           3                   Grammy Award for Best Rock Album   \n4           4       Grammy Award for Best Dance/Electronic Album   \n5           5                 Grammy Award for Album of the Year   \n..        ...                                                ...   \n182       182            Spellemann Award for singer of the year   \n183       183                             MTV MIAW Awards Brazil   \n187       187       Latin Grammy Award for Best Rap/Hip Hop Song   \n188       188      Latin Grammy Award for Best Recording Package   \n190       190         MTV Europe Music Award for Best Korean Act   \n\n                 award_type                                     award_category  \n1              Grammy Award  Best Rock Performance by a Duo or Group with V...  \n2    MTV Europe Music Award                                         Best Album  \n3              Grammy Award                                    Best Rock Album  \n4              Grammy Award                        Best Dance/Electronic Album  \n5              Grammy Award                                  Album of the Year  \n..                      ...                                                ...  \n182        Spellemann Award                                 singer of the year  \n183  MTV MIAW Awards Brazil                                                NaN  \n187      Latin Grammy Award                              Best Rap/Hip Hop Song  \n188      Latin Grammy Award                             Best Recording Package  \n190  MTV Europe Music Award                                    Best Korean Act  \n\n[116 rows x 4 columns]",
      "text/html": "<div>\n<style scoped>\n    .dataframe tbody tr th:only-of-type {\n        vertical-align: middle;\n    }\n\n    .dataframe tbody tr th {\n        vertical-align: top;\n    }\n\n    .dataframe thead th {\n        text-align: right;\n    }\n</style>\n<table border=\"1\" class=\"dataframe\">\n  <thead>\n    <tr style=\"text-align: right;\">\n      <th></th>\n      <th>award_id</th>\n      <th>award_name</th>\n      <th>award_type</th>\n      <th>award_category</th>\n    </tr>\n  </thead>\n  <tbody>\n    <tr>\n      <th>1</th>\n      <td>1</td>\n      <td>Grammy Award for Best Rock Performance by a Du...</td>\n      <td>Grammy Award</td>\n      <td>Best Rock Performance by a Duo or Group with V...</td>\n    </tr>\n    <tr>\n      <th>2</th>\n      <td>2</td>\n      <td>MTV Europe Music Award for Best Album</td>\n      <td>MTV Europe Music Award</td>\n      <td>Best Album</td>\n    </tr>\n    <tr>\n      <th>3</th>\n      <td>3</td>\n      <td>Grammy Award for Best Rock Album</td>\n      <td>Grammy Award</td>\n      <td>Best Rock Album</td>\n    </tr>\n    <tr>\n      <th>4</th>\n      <td>4</td>\n      <td>Grammy Award for Best Dance/Electronic Album</td>\n      <td>Grammy Award</td>\n      <td>Best Dance/Electronic Album</td>\n    </tr>\n    <tr>\n      <th>5</th>\n      <td>5</td>\n      <td>Grammy Award for Album of the Year</td>\n      <td>Grammy Award</td>\n      <td>Album of the Year</td>\n    </tr>\n    <tr>\n      <th>...</th>\n      <td>...</td>\n      <td>...</td>\n      <td>...</td>\n      <td>...</td>\n    </tr>\n    <tr>\n      <th>182</th>\n      <td>182</td>\n      <td>Spellemann Award for singer of the year</td>\n      <td>Spellemann Award</td>\n      <td>singer of the year</td>\n    </tr>\n    <tr>\n      <th>183</th>\n      <td>183</td>\n      <td>MTV MIAW Awards Brazil</td>\n      <td>MTV MIAW Awards Brazil</td>\n      <td>NaN</td>\n    </tr>\n    <tr>\n      <th>187</th>\n      <td>187</td>\n      <td>Latin Grammy Award for Best Rap/Hip Hop Song</td>\n      <td>Latin Grammy Award</td>\n      <td>Best Rap/Hip Hop Song</td>\n    </tr>\n    <tr>\n      <th>188</th>\n      <td>188</td>\n      <td>Latin Grammy Award for Best Recording Package</td>\n      <td>Latin Grammy Award</td>\n      <td>Best Recording Package</td>\n    </tr>\n    <tr>\n      <th>190</th>\n      <td>190</td>\n      <td>MTV Europe Music Award for Best Korean Act</td>\n      <td>MTV Europe Music Award</td>\n      <td>Best Korean Act</td>\n    </tr>\n  </tbody>\n</table>\n<p>116 rows × 4 columns</p>\n</div>"
     },
     "execution_count": 24,
     "metadata": {},
     "output_type": "execute_result"
    }
   ],
   "source": [
    "selected4"
   ],
   "metadata": {
    "collapsed": false,
    "ExecuteTime": {
     "end_time": "2023-12-02T14:54:34.204210800Z",
     "start_time": "2023-12-02T14:54:34.079212500Z"
    }
   },
   "id": "50739352d6c4e434"
  },
  {
   "cell_type": "markdown",
   "source": [
    "Award types\n",
    "- grammy award\n",
    "- mtv award\n",
    "- academy award\n",
    "- billboard\n",
    "- american music award\n",
    "- americana award\n",
    "- juno\n",
    "- spellemann\n",
    "- echo ***> caverei, inconsistenti tra loro***\n",
    "- willie nelson lifetime achievement ***> caverei, singolo e non con struttura, manco conosciuto direi?***"
   ],
   "metadata": {
    "collapsed": false
   },
   "id": "277db7435dd9ff36"
  },
  {
   "cell_type": "code",
   "execution_count": 25,
   "outputs": [
    {
     "data": {
      "text/plain": "     award_id                                         award_name  \\\n1           1  Grammy Award for Best Rock Performance by a Du...   \n2           2              MTV Europe Music Award for Best Album   \n3           3                   Grammy Award for Best Rock Album   \n4           4       Grammy Award for Best Dance/Electronic Album   \n5           5                 Grammy Award for Album of the Year   \n..        ...                                                ...   \n182       182            Spellemann Award for singer of the year   \n183       183                             MTV MIAW Awards Brazil   \n187       187       Latin Grammy Award for Best Rap/Hip Hop Song   \n188       188      Latin Grammy Award for Best Recording Package   \n190       190         MTV Europe Music Award for Best Korean Act   \n\n                 award_type                                     award_category  \n1              Grammy Award  Best Rock Performance by a Duo or Group with V...  \n2    MTV Europe Music Award                                         Best Album  \n3              Grammy Award                                    Best Rock Album  \n4              Grammy Award                        Best Dance/Electronic Album  \n5              Grammy Award                                  Album of the Year  \n..                      ...                                                ...  \n182        Spellemann Award                                 singer of the year  \n183  MTV MIAW Awards Brazil                                                NaN  \n187      Latin Grammy Award                              Best Rap/Hip Hop Song  \n188      Latin Grammy Award                             Best Recording Package  \n190  MTV Europe Music Award                                    Best Korean Act  \n\n[95 rows x 4 columns]",
      "text/html": "<div>\n<style scoped>\n    .dataframe tbody tr th:only-of-type {\n        vertical-align: middle;\n    }\n\n    .dataframe tbody tr th {\n        vertical-align: top;\n    }\n\n    .dataframe thead th {\n        text-align: right;\n    }\n</style>\n<table border=\"1\" class=\"dataframe\">\n  <thead>\n    <tr style=\"text-align: right;\">\n      <th></th>\n      <th>award_id</th>\n      <th>award_name</th>\n      <th>award_type</th>\n      <th>award_category</th>\n    </tr>\n  </thead>\n  <tbody>\n    <tr>\n      <th>1</th>\n      <td>1</td>\n      <td>Grammy Award for Best Rock Performance by a Du...</td>\n      <td>Grammy Award</td>\n      <td>Best Rock Performance by a Duo or Group with V...</td>\n    </tr>\n    <tr>\n      <th>2</th>\n      <td>2</td>\n      <td>MTV Europe Music Award for Best Album</td>\n      <td>MTV Europe Music Award</td>\n      <td>Best Album</td>\n    </tr>\n    <tr>\n      <th>3</th>\n      <td>3</td>\n      <td>Grammy Award for Best Rock Album</td>\n      <td>Grammy Award</td>\n      <td>Best Rock Album</td>\n    </tr>\n    <tr>\n      <th>4</th>\n      <td>4</td>\n      <td>Grammy Award for Best Dance/Electronic Album</td>\n      <td>Grammy Award</td>\n      <td>Best Dance/Electronic Album</td>\n    </tr>\n    <tr>\n      <th>5</th>\n      <td>5</td>\n      <td>Grammy Award for Album of the Year</td>\n      <td>Grammy Award</td>\n      <td>Album of the Year</td>\n    </tr>\n    <tr>\n      <th>...</th>\n      <td>...</td>\n      <td>...</td>\n      <td>...</td>\n      <td>...</td>\n    </tr>\n    <tr>\n      <th>182</th>\n      <td>182</td>\n      <td>Spellemann Award for singer of the year</td>\n      <td>Spellemann Award</td>\n      <td>singer of the year</td>\n    </tr>\n    <tr>\n      <th>183</th>\n      <td>183</td>\n      <td>MTV MIAW Awards Brazil</td>\n      <td>MTV MIAW Awards Brazil</td>\n      <td>NaN</td>\n    </tr>\n    <tr>\n      <th>187</th>\n      <td>187</td>\n      <td>Latin Grammy Award for Best Rap/Hip Hop Song</td>\n      <td>Latin Grammy Award</td>\n      <td>Best Rap/Hip Hop Song</td>\n    </tr>\n    <tr>\n      <th>188</th>\n      <td>188</td>\n      <td>Latin Grammy Award for Best Recording Package</td>\n      <td>Latin Grammy Award</td>\n      <td>Best Recording Package</td>\n    </tr>\n    <tr>\n      <th>190</th>\n      <td>190</td>\n      <td>MTV Europe Music Award for Best Korean Act</td>\n      <td>MTV Europe Music Award</td>\n      <td>Best Korean Act</td>\n    </tr>\n  </tbody>\n</table>\n<p>95 rows × 4 columns</p>\n</div>"
     },
     "execution_count": 25,
     "metadata": {},
     "output_type": "execute_result"
    }
   ],
   "source": [
    "selected5"
   ],
   "metadata": {
    "collapsed": false,
    "ExecuteTime": {
     "end_time": "2023-12-02T14:54:34.397210100Z",
     "start_time": "2023-12-02T14:54:34.195217800Z"
    }
   },
   "id": "1e64343a3166a7b2"
  },
  {
   "cell_type": "markdown",
   "source": [
    "Award types\n",
    "- grammy award\n",
    "- mtv award\n",
    "- american music award\n",
    "- juno\n",
    "- spellemann"
   ],
   "metadata": {
    "collapsed": false
   },
   "id": "dc956ed5e03d48b"
  },
  {
   "cell_type": "code",
   "execution_count": 26,
   "outputs": [
    {
     "data": {
      "text/plain": "     award_id                                        award_name  \\\n13         13                 Grammy Lifetime Achievement Award   \n21         21                     Los Premios MTV Latinoamérica   \n23         23                      Billboard Latin Music Awards   \n25         25                             Grammy Trustees Award   \n29         29                                     Grammy Awards   \n42         42                                  Echo Music Prize   \n60         60          Willie Nelson Lifetime Achievement Award   \n67         67           Latin Grammy Lifetime Achievement Award   \n71         71              Juno International Achievement Award   \n85         85       Echo Klassik ensemble/orchestra of the year   \n90         90                      Spellemann Award of the year   \n102       102  Echo Klassik Award - Instrumentalist of the Year   \n114       114                                          ECHO Pop   \n136       136                       Americana Trailblazer Award   \n157       157  Soul Train Music Best Gospel/Inspirational Award   \n161       161                             Billboard 21 Under 21   \n183       183                            MTV MIAW Awards Brazil   \n\n                                           award_type award_category  \n13                  Grammy Lifetime Achievement Award            NaN  \n21                      Los Premios MTV Latinoamérica            NaN  \n23                       Billboard Latin Music Awards            NaN  \n25                              Grammy Trustees Award            NaN  \n29                                      Grammy Awards            NaN  \n42                                   Echo Music Prize            NaN  \n60           Willie Nelson Lifetime Achievement Award            NaN  \n67            Latin Grammy Lifetime Achievement Award            NaN  \n71               Juno International Achievement Award            NaN  \n85        Echo Klassik ensemble/orchestra of the year            NaN  \n90                       Spellemann Award of the year            NaN  \n102  Echo Klassik Award - Instrumentalist of the Year            NaN  \n114                                          ECHO Pop            NaN  \n136                       Americana Trailblazer Award            NaN  \n157  Soul Train Music Best Gospel/Inspirational Award            NaN  \n161                             Billboard 21 Under 21            NaN  \n183                            MTV MIAW Awards Brazil            NaN  ",
      "text/html": "<div>\n<style scoped>\n    .dataframe tbody tr th:only-of-type {\n        vertical-align: middle;\n    }\n\n    .dataframe tbody tr th {\n        vertical-align: top;\n    }\n\n    .dataframe thead th {\n        text-align: right;\n    }\n</style>\n<table border=\"1\" class=\"dataframe\">\n  <thead>\n    <tr style=\"text-align: right;\">\n      <th></th>\n      <th>award_id</th>\n      <th>award_name</th>\n      <th>award_type</th>\n      <th>award_category</th>\n    </tr>\n  </thead>\n  <tbody>\n    <tr>\n      <th>13</th>\n      <td>13</td>\n      <td>Grammy Lifetime Achievement Award</td>\n      <td>Grammy Lifetime Achievement Award</td>\n      <td>NaN</td>\n    </tr>\n    <tr>\n      <th>21</th>\n      <td>21</td>\n      <td>Los Premios MTV Latinoamérica</td>\n      <td>Los Premios MTV Latinoamérica</td>\n      <td>NaN</td>\n    </tr>\n    <tr>\n      <th>23</th>\n      <td>23</td>\n      <td>Billboard Latin Music Awards</td>\n      <td>Billboard Latin Music Awards</td>\n      <td>NaN</td>\n    </tr>\n    <tr>\n      <th>25</th>\n      <td>25</td>\n      <td>Grammy Trustees Award</td>\n      <td>Grammy Trustees Award</td>\n      <td>NaN</td>\n    </tr>\n    <tr>\n      <th>29</th>\n      <td>29</td>\n      <td>Grammy Awards</td>\n      <td>Grammy Awards</td>\n      <td>NaN</td>\n    </tr>\n    <tr>\n      <th>42</th>\n      <td>42</td>\n      <td>Echo Music Prize</td>\n      <td>Echo Music Prize</td>\n      <td>NaN</td>\n    </tr>\n    <tr>\n      <th>60</th>\n      <td>60</td>\n      <td>Willie Nelson Lifetime Achievement Award</td>\n      <td>Willie Nelson Lifetime Achievement Award</td>\n      <td>NaN</td>\n    </tr>\n    <tr>\n      <th>67</th>\n      <td>67</td>\n      <td>Latin Grammy Lifetime Achievement Award</td>\n      <td>Latin Grammy Lifetime Achievement Award</td>\n      <td>NaN</td>\n    </tr>\n    <tr>\n      <th>71</th>\n      <td>71</td>\n      <td>Juno International Achievement Award</td>\n      <td>Juno International Achievement Award</td>\n      <td>NaN</td>\n    </tr>\n    <tr>\n      <th>85</th>\n      <td>85</td>\n      <td>Echo Klassik ensemble/orchestra of the year</td>\n      <td>Echo Klassik ensemble/orchestra of the year</td>\n      <td>NaN</td>\n    </tr>\n    <tr>\n      <th>90</th>\n      <td>90</td>\n      <td>Spellemann Award of the year</td>\n      <td>Spellemann Award of the year</td>\n      <td>NaN</td>\n    </tr>\n    <tr>\n      <th>102</th>\n      <td>102</td>\n      <td>Echo Klassik Award - Instrumentalist of the Year</td>\n      <td>Echo Klassik Award - Instrumentalist of the Year</td>\n      <td>NaN</td>\n    </tr>\n    <tr>\n      <th>114</th>\n      <td>114</td>\n      <td>ECHO Pop</td>\n      <td>ECHO Pop</td>\n      <td>NaN</td>\n    </tr>\n    <tr>\n      <th>136</th>\n      <td>136</td>\n      <td>Americana Trailblazer Award</td>\n      <td>Americana Trailblazer Award</td>\n      <td>NaN</td>\n    </tr>\n    <tr>\n      <th>157</th>\n      <td>157</td>\n      <td>Soul Train Music Best Gospel/Inspirational Award</td>\n      <td>Soul Train Music Best Gospel/Inspirational Award</td>\n      <td>NaN</td>\n    </tr>\n    <tr>\n      <th>161</th>\n      <td>161</td>\n      <td>Billboard 21 Under 21</td>\n      <td>Billboard 21 Under 21</td>\n      <td>NaN</td>\n    </tr>\n    <tr>\n      <th>183</th>\n      <td>183</td>\n      <td>MTV MIAW Awards Brazil</td>\n      <td>MTV MIAW Awards Brazil</td>\n      <td>NaN</td>\n    </tr>\n  </tbody>\n</table>\n</div>"
     },
     "execution_count": 26,
     "metadata": {},
     "output_type": "execute_result"
    }
   ],
   "source": [
    "selected4[selected4['award_category'].isna()]"
   ],
   "metadata": {
    "collapsed": false,
    "ExecuteTime": {
     "end_time": "2023-12-02T14:54:34.522210Z",
     "start_time": "2023-12-02T14:54:34.352209700Z"
    }
   },
   "id": "99c89810dc41142f"
  },
  {
   "cell_type": "code",
   "execution_count": 27,
   "outputs": [
    {
     "data": {
      "text/plain": "     award_id                               award_name  \\\n13         13        Grammy Lifetime Achievement Award   \n21         21            Los Premios MTV Latinoamérica   \n25         25                    Grammy Trustees Award   \n29         29                            Grammy Awards   \n67         67  Latin Grammy Lifetime Achievement Award   \n71         71     Juno International Achievement Award   \n90         90             Spellemann Award of the year   \n183       183                   MTV MIAW Awards Brazil   \n\n                                  award_type award_category  \n13         Grammy Lifetime Achievement Award            NaN  \n21             Los Premios MTV Latinoamérica            NaN  \n25                     Grammy Trustees Award            NaN  \n29                             Grammy Awards            NaN  \n67   Latin Grammy Lifetime Achievement Award            NaN  \n71      Juno International Achievement Award            NaN  \n90              Spellemann Award of the year            NaN  \n183                   MTV MIAW Awards Brazil            NaN  ",
      "text/html": "<div>\n<style scoped>\n    .dataframe tbody tr th:only-of-type {\n        vertical-align: middle;\n    }\n\n    .dataframe tbody tr th {\n        vertical-align: top;\n    }\n\n    .dataframe thead th {\n        text-align: right;\n    }\n</style>\n<table border=\"1\" class=\"dataframe\">\n  <thead>\n    <tr style=\"text-align: right;\">\n      <th></th>\n      <th>award_id</th>\n      <th>award_name</th>\n      <th>award_type</th>\n      <th>award_category</th>\n    </tr>\n  </thead>\n  <tbody>\n    <tr>\n      <th>13</th>\n      <td>13</td>\n      <td>Grammy Lifetime Achievement Award</td>\n      <td>Grammy Lifetime Achievement Award</td>\n      <td>NaN</td>\n    </tr>\n    <tr>\n      <th>21</th>\n      <td>21</td>\n      <td>Los Premios MTV Latinoamérica</td>\n      <td>Los Premios MTV Latinoamérica</td>\n      <td>NaN</td>\n    </tr>\n    <tr>\n      <th>25</th>\n      <td>25</td>\n      <td>Grammy Trustees Award</td>\n      <td>Grammy Trustees Award</td>\n      <td>NaN</td>\n    </tr>\n    <tr>\n      <th>29</th>\n      <td>29</td>\n      <td>Grammy Awards</td>\n      <td>Grammy Awards</td>\n      <td>NaN</td>\n    </tr>\n    <tr>\n      <th>67</th>\n      <td>67</td>\n      <td>Latin Grammy Lifetime Achievement Award</td>\n      <td>Latin Grammy Lifetime Achievement Award</td>\n      <td>NaN</td>\n    </tr>\n    <tr>\n      <th>71</th>\n      <td>71</td>\n      <td>Juno International Achievement Award</td>\n      <td>Juno International Achievement Award</td>\n      <td>NaN</td>\n    </tr>\n    <tr>\n      <th>90</th>\n      <td>90</td>\n      <td>Spellemann Award of the year</td>\n      <td>Spellemann Award of the year</td>\n      <td>NaN</td>\n    </tr>\n    <tr>\n      <th>183</th>\n      <td>183</td>\n      <td>MTV MIAW Awards Brazil</td>\n      <td>MTV MIAW Awards Brazil</td>\n      <td>NaN</td>\n    </tr>\n  </tbody>\n</table>\n</div>"
     },
     "execution_count": 27,
     "metadata": {},
     "output_type": "execute_result"
    }
   ],
   "source": [
    "selected5[selected5['award_category'].isna()]"
   ],
   "metadata": {
    "collapsed": false,
    "ExecuteTime": {
     "end_time": "2023-12-02T14:54:34.662110200Z",
     "start_time": "2023-12-02T14:54:34.486211Z"
    }
   },
   "id": "231e126b7ffc51a4"
  },
  {
   "cell_type": "code",
   "execution_count": 63,
   "outputs": [
    {
     "data": {
      "text/plain": "total               193.000000\natleast2            139.000000\nmaintained2           0.720207\nloss2                 0.279793\nstat_atleast2       820.000000\nstat_maintained2      0.818363\nstat_loss2            0.181637\nName: 0, dtype: float64"
     },
     "execution_count": 63,
     "metadata": {},
     "output_type": "execute_result"
    }
   ],
   "source": [
    "pd.DataFrame({\n",
    "    'total': [int(len(awards))],\n",
    "    'atleast2': [len(selected2)],\n",
    "    'maintained2': [len(selected2)/len(awards)],\n",
    "    'loss2': [1-len(selected2)/len(awards)],\n",
    "    'stat_atleast2': [len(statements[statements['award_id'].isin(selected2['award_id'].drop_duplicates())])],\n",
    "    'stat_maintained2': [len(statements[statements['award_id'].isin(selected2['award_id'].drop_duplicates())]) / len(statements)],\n",
    "    'stat_loss2': [1-len(statements[statements['award_id'].isin(selected2['award_id'].drop_duplicates())]) / len(statements)]\n",
    "}).iloc[0]"
   ],
   "metadata": {
    "collapsed": false,
    "ExecuteTime": {
     "end_time": "2023-12-02T15:32:18.276824Z",
     "start_time": "2023-12-02T15:32:18.249836200Z"
    }
   },
   "id": "8da6c039e9884deb"
  },
  {
   "cell_type": "code",
   "execution_count": 28,
   "outputs": [
    {
     "data": {
      "text/plain": "total          193.000000\natleast4       116.000000\nmaintained4      0.601036\nloss4            0.398964\natleast5        95.000000\nmaintained5      0.492228\nloss5            0.507772\nName: 0, dtype: float64"
     },
     "execution_count": 28,
     "metadata": {},
     "output_type": "execute_result"
    }
   ],
   "source": [
    "pd.DataFrame({\n",
    "    'total': [int(len(awards))],\n",
    "    'atleast4': [len(selected4)],\n",
    "    'maintained4': [len(selected4)/len(awards)],\n",
    "    'loss4': [1-len(selected4)/len(awards)],\n",
    "    'atleast5': [len(selected5)],\n",
    "    'maintained5': [len(selected5)/len(awards)],\n",
    "    'loss5': [1-len(selected5)/len(awards)],\n",
    "}).iloc[0]"
   ],
   "metadata": {
    "collapsed": false,
    "ExecuteTime": {
     "end_time": "2023-12-02T14:54:34.963403600Z",
     "start_time": "2023-12-02T14:54:34.621108800Z"
    }
   },
   "id": "bd3850bc9d0f23f8"
  },
  {
   "cell_type": "code",
   "execution_count": 29,
   "outputs": [
    {
     "data": {
      "text/plain": "total          1002.000000\natleast4        741.000000\nmaintained4       0.739521\nloss4             0.260479\natleast5        659.000000\nmaintained5       0.657685\nloss5             0.342315\nName: 0, dtype: float64"
     },
     "execution_count": 29,
     "metadata": {},
     "output_type": "execute_result"
    }
   ],
   "source": [
    "pd.DataFrame({\n",
    "    'total': [len(statements)],\n",
    "    'atleast4': [len(statements[statements['award_id'].isin(selected4['award_id'].drop_duplicates())])],\n",
    "    'maintained4': [len(statements[statements['award_id'].isin(selected4['award_id'].drop_duplicates())]) / len(statements)],\n",
    "    'loss4': [1-len(statements[statements['award_id'].isin(selected4['award_id'].drop_duplicates())]) / len(statements)],\n",
    "    'atleast5': [len(statements[statements['award_id'].isin(selected5['award_id'].drop_duplicates())])],\n",
    "    'maintained5': [len(statements[statements['award_id'].isin(selected5['award_id'].drop_duplicates())]) / len(statements)],\n",
    "    'loss5': [1-len(statements[statements['award_id'].isin(selected5['award_id'].drop_duplicates())]) / len(statements)]\n",
    "}).iloc[0]"
   ],
   "metadata": {
    "collapsed": false,
    "ExecuteTime": {
     "end_time": "2023-12-02T14:54:35.048284700Z",
     "start_time": "2023-12-02T14:54:34.754108600Z"
    }
   },
   "id": "409dbf55778d8720"
  },
  {
   "cell_type": "markdown",
   "source": [
    "### Fine prove"
   ],
   "metadata": {
    "collapsed": false
   },
   "id": "a49e9385fa09aa60"
  }
 ],
 "metadata": {
  "kernelspec": {
   "name": "db2",
   "language": "python",
   "display_name": "db2"
  },
  "language_info": {
   "codemirror_mode": {
    "name": "ipython",
    "version": 2
   },
   "file_extension": ".py",
   "mimetype": "text/x-python",
   "name": "python",
   "nbconvert_exporter": "python",
   "pygments_lexer": "ipython2",
   "version": "2.7.6"
  }
 },
 "nbformat": 4,
 "nbformat_minor": 5
}
