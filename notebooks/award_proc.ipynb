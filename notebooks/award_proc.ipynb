{
 "cells": [
  {
   "cell_type": "code",
   "execution_count": 1,
   "id": "initial_id",
   "metadata": {
    "collapsed": true,
    "ExecuteTime": {
     "end_time": "2023-12-04T17:12:30.150512900Z",
     "start_time": "2023-12-04T17:12:29.657598300Z"
    }
   },
   "outputs": [],
   "source": [
    "import pandas as pd"
   ]
  },
  {
   "cell_type": "code",
   "execution_count": 7,
   "outputs": [
    {
     "data": {
      "text/plain": "     award_id                                         award_name  \\\n0           0                                        MOJO Awards   \n1           1  Grammy Award for Best Rock Performance by a Du...   \n2           2              MTV Europe Music Award for Best Album   \n3           3                   Grammy Award for Best Rock Album   \n4           4       Grammy Award for Best Dance/Electronic Album   \n..        ...                                                ...   \n188       188      Latin Grammy Award for Best Recording Package   \n189       189         First prize of the Eurovision Song Contest   \n190       190         MTV Europe Music Award for Best Korean Act   \n191       191                     P3 Gull for Artist of the Year   \n192       192                                       Premios Musa   \n\n                                     award_type  \\\n0                                   MOJO Awards   \n1                                  Grammy Award   \n2                        MTV Europe Music Award   \n3                                  Grammy Award   \n4                                  Grammy Award   \n..                                          ...   \n188                          Latin Grammy Award   \n189  First prize of the Eurovision Song Contest   \n190                      MTV Europe Music Award   \n191                                     P3 Gull   \n192                                Premios Musa   \n\n                                        award_category  \n0                                                  NaN  \n1    Best Rock Performance by a Duo or Group with V...  \n2                                           Best Album  \n3                                      Best Rock Album  \n4                          Best Dance/Electronic Album  \n..                                                 ...  \n188                             Best Recording Package  \n189                                                NaN  \n190                                    Best Korean Act  \n191                                 Artist of the Year  \n192                                                NaN  \n\n[193 rows x 4 columns]",
      "text/html": "<div>\n<style scoped>\n    .dataframe tbody tr th:only-of-type {\n        vertical-align: middle;\n    }\n\n    .dataframe tbody tr th {\n        vertical-align: top;\n    }\n\n    .dataframe thead th {\n        text-align: right;\n    }\n</style>\n<table border=\"1\" class=\"dataframe\">\n  <thead>\n    <tr style=\"text-align: right;\">\n      <th></th>\n      <th>award_id</th>\n      <th>award_name</th>\n      <th>award_type</th>\n      <th>award_category</th>\n    </tr>\n  </thead>\n  <tbody>\n    <tr>\n      <th>0</th>\n      <td>0</td>\n      <td>MOJO Awards</td>\n      <td>MOJO Awards</td>\n      <td>NaN</td>\n    </tr>\n    <tr>\n      <th>1</th>\n      <td>1</td>\n      <td>Grammy Award for Best Rock Performance by a Du...</td>\n      <td>Grammy Award</td>\n      <td>Best Rock Performance by a Duo or Group with V...</td>\n    </tr>\n    <tr>\n      <th>2</th>\n      <td>2</td>\n      <td>MTV Europe Music Award for Best Album</td>\n      <td>MTV Europe Music Award</td>\n      <td>Best Album</td>\n    </tr>\n    <tr>\n      <th>3</th>\n      <td>3</td>\n      <td>Grammy Award for Best Rock Album</td>\n      <td>Grammy Award</td>\n      <td>Best Rock Album</td>\n    </tr>\n    <tr>\n      <th>4</th>\n      <td>4</td>\n      <td>Grammy Award for Best Dance/Electronic Album</td>\n      <td>Grammy Award</td>\n      <td>Best Dance/Electronic Album</td>\n    </tr>\n    <tr>\n      <th>...</th>\n      <td>...</td>\n      <td>...</td>\n      <td>...</td>\n      <td>...</td>\n    </tr>\n    <tr>\n      <th>188</th>\n      <td>188</td>\n      <td>Latin Grammy Award for Best Recording Package</td>\n      <td>Latin Grammy Award</td>\n      <td>Best Recording Package</td>\n    </tr>\n    <tr>\n      <th>189</th>\n      <td>189</td>\n      <td>First prize of the Eurovision Song Contest</td>\n      <td>First prize of the Eurovision Song Contest</td>\n      <td>NaN</td>\n    </tr>\n    <tr>\n      <th>190</th>\n      <td>190</td>\n      <td>MTV Europe Music Award for Best Korean Act</td>\n      <td>MTV Europe Music Award</td>\n      <td>Best Korean Act</td>\n    </tr>\n    <tr>\n      <th>191</th>\n      <td>191</td>\n      <td>P3 Gull for Artist of the Year</td>\n      <td>P3 Gull</td>\n      <td>Artist of the Year</td>\n    </tr>\n    <tr>\n      <th>192</th>\n      <td>192</td>\n      <td>Premios Musa</td>\n      <td>Premios Musa</td>\n      <td>NaN</td>\n    </tr>\n  </tbody>\n</table>\n<p>193 rows × 4 columns</p>\n</div>"
     },
     "execution_count": 7,
     "metadata": {},
     "output_type": "execute_result"
    }
   ],
   "source": [
    "awards = pd.read_csv('../data/wikidata_awards.csv')"
   ],
   "metadata": {
    "collapsed": false,
    "ExecuteTime": {
     "end_time": "2023-12-04T17:35:53.831755900Z",
     "start_time": "2023-12-04T17:35:53.799758Z"
    }
   },
   "id": "adc3970d261eb1e"
  },
  {
   "cell_type": "code",
   "execution_count": 3,
   "outputs": [
    {
     "data": {
      "text/plain": "           artist_spotify_id  award_id award_year\n0     0L8ExT028jH3ddEcZwqJJ5         0          _\n1     0L8ExT028jH3ddEcZwqJJ5         1       2006\n2     0L8ExT028jH3ddEcZwqJJ5         2       2006\n3     0L8ExT028jH3ddEcZwqJJ5         3       2006\n4     4tZwfgrHOc3mvqYlEYSvVi         4       2008\n...                      ...       ...        ...\n997   0ghlgldX5Dd6720Q3qFyQB       186       2020\n998   2KC9Qb60EaY0kW4eH68vr3       186       2020\n999   4yxLYO2imECxGYTTV7RQKb       192          _\n1000  5t5FqBwTcgKTaWmfEbwQY9       186       2021\n1001  6PvvGcCY2XtUcSRld1Wilr        16       2022\n\n[1002 rows x 3 columns]",
      "text/html": "<div>\n<style scoped>\n    .dataframe tbody tr th:only-of-type {\n        vertical-align: middle;\n    }\n\n    .dataframe tbody tr th {\n        vertical-align: top;\n    }\n\n    .dataframe thead th {\n        text-align: right;\n    }\n</style>\n<table border=\"1\" class=\"dataframe\">\n  <thead>\n    <tr style=\"text-align: right;\">\n      <th></th>\n      <th>artist_spotify_id</th>\n      <th>award_id</th>\n      <th>award_year</th>\n    </tr>\n  </thead>\n  <tbody>\n    <tr>\n      <th>0</th>\n      <td>0L8ExT028jH3ddEcZwqJJ5</td>\n      <td>0</td>\n      <td>_</td>\n    </tr>\n    <tr>\n      <th>1</th>\n      <td>0L8ExT028jH3ddEcZwqJJ5</td>\n      <td>1</td>\n      <td>2006</td>\n    </tr>\n    <tr>\n      <th>2</th>\n      <td>0L8ExT028jH3ddEcZwqJJ5</td>\n      <td>2</td>\n      <td>2006</td>\n    </tr>\n    <tr>\n      <th>3</th>\n      <td>0L8ExT028jH3ddEcZwqJJ5</td>\n      <td>3</td>\n      <td>2006</td>\n    </tr>\n    <tr>\n      <th>4</th>\n      <td>4tZwfgrHOc3mvqYlEYSvVi</td>\n      <td>4</td>\n      <td>2008</td>\n    </tr>\n    <tr>\n      <th>...</th>\n      <td>...</td>\n      <td>...</td>\n      <td>...</td>\n    </tr>\n    <tr>\n      <th>997</th>\n      <td>0ghlgldX5Dd6720Q3qFyQB</td>\n      <td>186</td>\n      <td>2020</td>\n    </tr>\n    <tr>\n      <th>998</th>\n      <td>2KC9Qb60EaY0kW4eH68vr3</td>\n      <td>186</td>\n      <td>2020</td>\n    </tr>\n    <tr>\n      <th>999</th>\n      <td>4yxLYO2imECxGYTTV7RQKb</td>\n      <td>192</td>\n      <td>_</td>\n    </tr>\n    <tr>\n      <th>1000</th>\n      <td>5t5FqBwTcgKTaWmfEbwQY9</td>\n      <td>186</td>\n      <td>2021</td>\n    </tr>\n    <tr>\n      <th>1001</th>\n      <td>6PvvGcCY2XtUcSRld1Wilr</td>\n      <td>16</td>\n      <td>2022</td>\n    </tr>\n  </tbody>\n</table>\n<p>1002 rows × 3 columns</p>\n</div>"
     },
     "execution_count": 3,
     "metadata": {},
     "output_type": "execute_result"
    }
   ],
   "source": [
    "statements = pd.read_csv('../data/wikidata_award_statements.csv')\n",
    "statements"
   ],
   "metadata": {
    "collapsed": false,
    "ExecuteTime": {
     "end_time": "2023-12-04T17:12:34.427136800Z",
     "start_time": "2023-12-04T17:12:34.387135800Z"
    }
   },
   "id": "4593878889e726d9"
  },
  {
   "cell_type": "code",
   "execution_count": 9,
   "outputs": [],
   "source": [
    "for index, row in awards.iterrows():\n",
    "    aType = row['award_type'].split(' – ', maxsplit=1)\n",
    "    if len(aType) == 1:\n",
    "        aType = row['award_type'].split(' - ', maxsplit=1)\n",
    "    awards.at[index, 'award_type'] = aType[0]\n",
    "    if len(aType) > 1:\n",
    "        awards.at[index, 'award_category'] = aType[1]"
   ],
   "metadata": {
    "collapsed": false,
    "ExecuteTime": {
     "end_time": "2023-12-04T17:37:58.059347500Z",
     "start_time": "2023-12-04T17:37:58.046347400Z"
    }
   },
   "id": "20e2a60090464df7"
  },
  {
   "cell_type": "code",
   "execution_count": 10,
   "outputs": [
    {
     "data": {
      "text/plain": "     award_id                                         award_name  \\\n0           0                                        MOJO Awards   \n1           1  Grammy Award for Best Rock Performance by a Du...   \n2           2              MTV Europe Music Award for Best Album   \n3           3                   Grammy Award for Best Rock Album   \n4           4       Grammy Award for Best Dance/Electronic Album   \n..        ...                                                ...   \n188       188      Latin Grammy Award for Best Recording Package   \n189       189         First prize of the Eurovision Song Contest   \n190       190         MTV Europe Music Award for Best Korean Act   \n191       191                     P3 Gull for Artist of the Year   \n192       192                                       Premios Musa   \n\n                                     award_type  \\\n0                                   MOJO Awards   \n1                                  Grammy Award   \n2                        MTV Europe Music Award   \n3                                  Grammy Award   \n4                                  Grammy Award   \n..                                          ...   \n188                          Latin Grammy Award   \n189  First prize of the Eurovision Song Contest   \n190                      MTV Europe Music Award   \n191                                     P3 Gull   \n192                                Premios Musa   \n\n                                        award_category  \n0                                                    _  \n1    Best Rock Performance by a Duo or Group with V...  \n2                                           Best Album  \n3                                      Best Rock Album  \n4                          Best Dance/Electronic Album  \n..                                                 ...  \n188                             Best Recording Package  \n189                                                  _  \n190                                    Best Korean Act  \n191                                 Artist of the Year  \n192                                                  _  \n\n[193 rows x 4 columns]",
      "text/html": "<div>\n<style scoped>\n    .dataframe tbody tr th:only-of-type {\n        vertical-align: middle;\n    }\n\n    .dataframe tbody tr th {\n        vertical-align: top;\n    }\n\n    .dataframe thead th {\n        text-align: right;\n    }\n</style>\n<table border=\"1\" class=\"dataframe\">\n  <thead>\n    <tr style=\"text-align: right;\">\n      <th></th>\n      <th>award_id</th>\n      <th>award_name</th>\n      <th>award_type</th>\n      <th>award_category</th>\n    </tr>\n  </thead>\n  <tbody>\n    <tr>\n      <th>0</th>\n      <td>0</td>\n      <td>MOJO Awards</td>\n      <td>MOJO Awards</td>\n      <td>_</td>\n    </tr>\n    <tr>\n      <th>1</th>\n      <td>1</td>\n      <td>Grammy Award for Best Rock Performance by a Du...</td>\n      <td>Grammy Award</td>\n      <td>Best Rock Performance by a Duo or Group with V...</td>\n    </tr>\n    <tr>\n      <th>2</th>\n      <td>2</td>\n      <td>MTV Europe Music Award for Best Album</td>\n      <td>MTV Europe Music Award</td>\n      <td>Best Album</td>\n    </tr>\n    <tr>\n      <th>3</th>\n      <td>3</td>\n      <td>Grammy Award for Best Rock Album</td>\n      <td>Grammy Award</td>\n      <td>Best Rock Album</td>\n    </tr>\n    <tr>\n      <th>4</th>\n      <td>4</td>\n      <td>Grammy Award for Best Dance/Electronic Album</td>\n      <td>Grammy Award</td>\n      <td>Best Dance/Electronic Album</td>\n    </tr>\n    <tr>\n      <th>...</th>\n      <td>...</td>\n      <td>...</td>\n      <td>...</td>\n      <td>...</td>\n    </tr>\n    <tr>\n      <th>188</th>\n      <td>188</td>\n      <td>Latin Grammy Award for Best Recording Package</td>\n      <td>Latin Grammy Award</td>\n      <td>Best Recording Package</td>\n    </tr>\n    <tr>\n      <th>189</th>\n      <td>189</td>\n      <td>First prize of the Eurovision Song Contest</td>\n      <td>First prize of the Eurovision Song Contest</td>\n      <td>_</td>\n    </tr>\n    <tr>\n      <th>190</th>\n      <td>190</td>\n      <td>MTV Europe Music Award for Best Korean Act</td>\n      <td>MTV Europe Music Award</td>\n      <td>Best Korean Act</td>\n    </tr>\n    <tr>\n      <th>191</th>\n      <td>191</td>\n      <td>P3 Gull for Artist of the Year</td>\n      <td>P3 Gull</td>\n      <td>Artist of the Year</td>\n    </tr>\n    <tr>\n      <th>192</th>\n      <td>192</td>\n      <td>Premios Musa</td>\n      <td>Premios Musa</td>\n      <td>_</td>\n    </tr>\n  </tbody>\n</table>\n<p>193 rows × 4 columns</p>\n</div>"
     },
     "execution_count": 10,
     "metadata": {},
     "output_type": "execute_result"
    }
   ],
   "source": [
    "awards['award_category'] = awards['award_category'].fillna('_')\n",
    "awards"
   ],
   "metadata": {
    "collapsed": false,
    "ExecuteTime": {
     "end_time": "2023-12-04T17:38:05.354984200Z",
     "start_time": "2023-12-04T17:38:05.331983900Z"
    }
   },
   "id": "bd7b1106ddfec934"
  },
  {
   "cell_type": "code",
   "execution_count": 6,
   "outputs": [
    {
     "data": {
      "text/plain": "     award_id                                         award_name  \\\n0           0                                        MOJO Awards   \n1           1  Grammy Award for Best Rock Performance by a Du...   \n2           2              MTV Europe Music Award for Best Album   \n3           3                   Grammy Award for Best Rock Album   \n4           4       Grammy Award for Best Dance/Electronic Album   \n..        ...                                                ...   \n188       188      Latin Grammy Award for Best Recording Package   \n189       189         First prize of the Eurovision Song Contest   \n190       190         MTV Europe Music Award for Best Korean Act   \n191       191                     P3 Gull for Artist of the Year   \n192       192                                       Premios Musa   \n\n                                     award_type  \\\n0                                   MOJO Awards   \n1                                  Grammy Award   \n2                        MTV Europe Music Award   \n3                                  Grammy Award   \n4                                  Grammy Award   \n..                                          ...   \n188                          Latin Grammy Award   \n189  First prize of the Eurovision Song Contest   \n190                      MTV Europe Music Award   \n191                                     P3 Gull   \n192                                Premios Musa   \n\n                                        award_category award_class  \n0                                                  NaN     Generic  \n1    Best Rock Performance by a Duo or Group with V...      Grammy  \n2                                           Best Album         MTV  \n3                                      Best Rock Album      Grammy  \n4                          Best Dance/Electronic Album      Grammy  \n..                                                 ...         ...  \n188                             Best Recording Package      Grammy  \n189                                                NaN     Generic  \n190                                    Best Korean Act         MTV  \n191                                 Artist of the Year     Generic  \n192                                                NaN     Generic  \n\n[193 rows x 5 columns]",
      "text/html": "<div>\n<style scoped>\n    .dataframe tbody tr th:only-of-type {\n        vertical-align: middle;\n    }\n\n    .dataframe tbody tr th {\n        vertical-align: top;\n    }\n\n    .dataframe thead th {\n        text-align: right;\n    }\n</style>\n<table border=\"1\" class=\"dataframe\">\n  <thead>\n    <tr style=\"text-align: right;\">\n      <th></th>\n      <th>award_id</th>\n      <th>award_name</th>\n      <th>award_type</th>\n      <th>award_category</th>\n      <th>award_class</th>\n    </tr>\n  </thead>\n  <tbody>\n    <tr>\n      <th>0</th>\n      <td>0</td>\n      <td>MOJO Awards</td>\n      <td>MOJO Awards</td>\n      <td>NaN</td>\n      <td>Generic</td>\n    </tr>\n    <tr>\n      <th>1</th>\n      <td>1</td>\n      <td>Grammy Award for Best Rock Performance by a Du...</td>\n      <td>Grammy Award</td>\n      <td>Best Rock Performance by a Duo or Group with V...</td>\n      <td>Grammy</td>\n    </tr>\n    <tr>\n      <th>2</th>\n      <td>2</td>\n      <td>MTV Europe Music Award for Best Album</td>\n      <td>MTV Europe Music Award</td>\n      <td>Best Album</td>\n      <td>MTV</td>\n    </tr>\n    <tr>\n      <th>3</th>\n      <td>3</td>\n      <td>Grammy Award for Best Rock Album</td>\n      <td>Grammy Award</td>\n      <td>Best Rock Album</td>\n      <td>Grammy</td>\n    </tr>\n    <tr>\n      <th>4</th>\n      <td>4</td>\n      <td>Grammy Award for Best Dance/Electronic Album</td>\n      <td>Grammy Award</td>\n      <td>Best Dance/Electronic Album</td>\n      <td>Grammy</td>\n    </tr>\n    <tr>\n      <th>...</th>\n      <td>...</td>\n      <td>...</td>\n      <td>...</td>\n      <td>...</td>\n      <td>...</td>\n    </tr>\n    <tr>\n      <th>188</th>\n      <td>188</td>\n      <td>Latin Grammy Award for Best Recording Package</td>\n      <td>Latin Grammy Award</td>\n      <td>Best Recording Package</td>\n      <td>Grammy</td>\n    </tr>\n    <tr>\n      <th>189</th>\n      <td>189</td>\n      <td>First prize of the Eurovision Song Contest</td>\n      <td>First prize of the Eurovision Song Contest</td>\n      <td>NaN</td>\n      <td>Generic</td>\n    </tr>\n    <tr>\n      <th>190</th>\n      <td>190</td>\n      <td>MTV Europe Music Award for Best Korean Act</td>\n      <td>MTV Europe Music Award</td>\n      <td>Best Korean Act</td>\n      <td>MTV</td>\n    </tr>\n    <tr>\n      <th>191</th>\n      <td>191</td>\n      <td>P3 Gull for Artist of the Year</td>\n      <td>P3 Gull</td>\n      <td>Artist of the Year</td>\n      <td>Generic</td>\n    </tr>\n    <tr>\n      <th>192</th>\n      <td>192</td>\n      <td>Premios Musa</td>\n      <td>Premios Musa</td>\n      <td>NaN</td>\n      <td>Generic</td>\n    </tr>\n  </tbody>\n</table>\n<p>193 rows × 5 columns</p>\n</div>"
     },
     "execution_count": 6,
     "metadata": {},
     "output_type": "execute_result"
    }
   ],
   "source": [
    "award_class = []\n",
    "for index, row in awards.iterrows():\n",
    "    award_type = row['award_type']\n",
    "    if 'MTV' in award_type:\n",
    "        award_class.append('MTV')\n",
    "    elif 'Grammy' in award_type:\n",
    "        award_class.append('Grammy')\n",
    "    elif 'Americana' in award_type:\n",
    "        award_class.append('Americana')\n",
    "    elif 'American Music' in award_type:\n",
    "        award_class.append('American Music')\n",
    "    elif 'Juno' in award_type:\n",
    "        award_class.append('Juno')\n",
    "    elif 'Spellemann' in award_type:\n",
    "        award_class.append('Spellemann')\n",
    "    elif 'Soul Train' in award_type:\n",
    "        award_class.append('Soul Train')\n",
    "    elif 'Billboard' in award_type:\n",
    "        award_class.append('Billboard')\n",
    "    elif 'Academy' in award_type:\n",
    "        award_class.append('Academy')\n",
    "    elif 'Gramophone' in award_type:\n",
    "        award_class.append('Gramophone')\n",
    "    else:\n",
    "        award_class.append('Generic')\n",
    "        \n",
    "awards['award_class'] = award_class\n",
    "awards"
   ],
   "metadata": {
    "collapsed": false,
    "ExecuteTime": {
     "end_time": "2023-12-04T17:13:33.757151Z",
     "start_time": "2023-12-04T17:13:33.697129200Z"
    }
   },
   "id": "3d59a9561f6a6c1"
  },
  {
   "cell_type": "code",
   "execution_count": 20,
   "outputs": [
    {
     "data": {
      "text/plain": "0                                     MOJO Awards\n1                                    Grammy Award\n2                          MTV Europe Music Award\n3                             Johnny Mercer Award\n4               Grammy Lifetime Achievement Award\n                          ...                    \n100                  Soribada Best K-Music Awards\n101                             Seoul Music Award\n102    First prize of the Eurovision Song Contest\n103                                       P3 Gull\n104                                  Premios Musa\nName: award_type, Length: 105, dtype: object"
     },
     "execution_count": 20,
     "metadata": {},
     "output_type": "execute_result"
    }
   ],
   "source": [
    "award_types = awards['award_type'].drop_duplicates().reset_index(drop=True)\n",
    "award_types"
   ],
   "metadata": {
    "collapsed": false,
    "ExecuteTime": {
     "end_time": "2023-12-02T14:54:33.716210400Z",
     "start_time": "2023-12-02T14:54:33.542179300Z"
    }
   },
   "id": "849c0f08fd5253f6"
  },
  {
   "cell_type": "code",
   "execution_count": 30,
   "outputs": [],
   "source": [
    "from collections import Counter"
   ],
   "metadata": {
    "collapsed": false,
    "ExecuteTime": {
     "end_time": "2023-12-02T15:07:29.483565700Z",
     "start_time": "2023-12-02T15:07:29.304592900Z"
    }
   },
   "id": "1cdaf3c212da2ad9"
  },
  {
   "cell_type": "code",
   "execution_count": 0,
   "outputs": [],
   "source": [
    "aw_list = awards['award_type'].tolist()"
   ],
   "metadata": {
    "collapsed": false
   },
   "id": "3730755669715e04"
  },
  {
   "cell_type": "code",
   "execution_count": 36,
   "outputs": [
    {
     "data": {
      "text/plain": "['Grammy Award',\n 'MTV Europe Music Award',\n 'Academy Award',\n 'Latin Grammy Award',\n 'American Music Award',\n 'Juno Award',\n 'Americana Award',\n 'Gramophone Award',\n 'Spellemann Award',\n 'Soul Train Music Award',\n 'Billboard Music Award']"
     },
     "execution_count": 36,
     "metadata": {},
     "output_type": "execute_result"
    }
   ],
   "source": [
    "freq_award = Counter(aw_list)\n",
    "atleast2 = [el for el, freq in freq_award.items() if freq >= 2]\n",
    "atleast2"
   ],
   "metadata": {
    "collapsed": false,
    "ExecuteTime": {
     "end_time": "2023-12-02T15:09:39.160761300Z",
     "start_time": "2023-12-02T15:09:38.954192600Z"
    }
   },
   "id": "c2878a249498d95a"
  },
  {
   "cell_type": "code",
   "execution_count": 48,
   "outputs": [
    {
     "data": {
      "text/plain": "['Grammy',\n 'MTV',\n 'Academy',\n 'Grammy',\n 'American',\n 'Juno',\n 'Americana',\n 'Gramophone',\n 'Spellemann',\n 'Soul',\n 'Train',\n 'Billboard']"
     },
     "execution_count": 48,
     "metadata": {},
     "output_type": "execute_result"
    }
   ],
   "source": [
    "# award, music, europe, latin\n",
    "tokens = [word for atype in atleast2 for word in atype.split() if word not in ['Award', 'Music', 'Europe', 'Latin']]\n",
    "tokens"
   ],
   "metadata": {
    "collapsed": false,
    "ExecuteTime": {
     "end_time": "2023-12-02T15:25:44.574308Z",
     "start_time": "2023-12-02T15:25:44.414933Z"
    }
   },
   "id": "3fde511075976b98"
  },
  {
   "cell_type": "code",
   "execution_count": 51,
   "outputs": [],
   "source": [
    "selected2 = awards[awards['award_type'].str.contains(' |'.join(tokens)+' ', case=False)]"
   ],
   "metadata": {
    "collapsed": false,
    "ExecuteTime": {
     "end_time": "2023-12-02T15:28:12.861285100Z",
     "start_time": "2023-12-02T15:28:12.434972Z"
    }
   },
   "id": "77eab729fe0437cf"
  },
  {
   "cell_type": "code",
   "execution_count": 52,
   "outputs": [
    {
     "data": {
      "text/plain": "total                      193.000000\natleast2                   113.000000\nmaintained2                  0.585492\nloss2                        0.414508\nstatements_total          1002.000000\nstatements_atleast2        729.000000\nstatements_maintained2       0.727545\nstatements_loss2             0.272455\nName: 0, dtype: float64"
     },
     "execution_count": 52,
     "metadata": {},
     "output_type": "execute_result"
    }
   ],
   "source": [
    "pd.DataFrame({\n",
    "    'total': [int(len(awards))],\n",
    "    'atleast2': [len(selected2)],\n",
    "    'maintained2': [len(selected2)/len(awards)],\n",
    "    'loss2': [1-len(selected2)/len(awards)],\n",
    "    'statements_total': [len(statements)],\n",
    "    'statements_atleast2': [len(statements[statements['award_id'].isin(selected2['award_id'].drop_duplicates())])],\n",
    "    'statements_maintained2': [len(statements[statements['award_id'].isin(selected2['award_id'].drop_duplicates())]) / len(statements)],\n",
    "    'statements_loss2': [1-len(statements[statements['award_id'].isin(selected2['award_id'].drop_duplicates())]) / len(statements)]\n",
    "}).iloc[0]"
   ],
   "metadata": {
    "collapsed": false,
    "ExecuteTime": {
     "end_time": "2023-12-02T15:28:17.054941500Z",
     "start_time": "2023-12-02T15:28:17.031941700Z"
    }
   },
   "id": "e0c58a60d368442e"
  },
  {
   "cell_type": "markdown",
   "source": [
    "### TTL"
   ],
   "metadata": {
    "collapsed": false
   },
   "id": "e2492799688be36e"
  },
  {
   "cell_type": "code",
   "execution_count": null,
   "outputs": [],
   "source": [
    "\"\"\"### https://www.dei.unipd.it/db2/ontology/soundgraph#GrammyAward2012\n",
    ":%s%s rdf:type owl:Class ;\n",
    "                 owl:equivalentClass [ rdf:type owl:Restriction ;\n",
    "                                       owl:onProperty :awardYear ;\n",
    "                                       owl:hasValue %s\n",
    "                                     ] ;\n",
    "                 rdfs:subClassOf :%s . \"\"\" % award_type, award_year, award_year, award_type"
   ],
   "metadata": {
    "collapsed": false
   },
   "id": "e8c41418bdae8197"
  }
 ],
 "metadata": {
  "kernelspec": {
   "name": "db2",
   "language": "python",
   "display_name": "db2"
  },
  "language_info": {
   "codemirror_mode": {
    "name": "ipython",
    "version": 2
   },
   "file_extension": ".py",
   "mimetype": "text/x-python",
   "name": "python",
   "nbconvert_exporter": "python",
   "pygments_lexer": "ipython2",
   "version": "2.7.6"
  }
 },
 "nbformat": 4,
 "nbformat_minor": 5
}
