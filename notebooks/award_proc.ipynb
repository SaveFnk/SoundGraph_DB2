{
 "cells": [
  {
   "cell_type": "markdown",
   "source": [
    "### Import libraries"
   ],
   "metadata": {
    "collapsed": false
   },
   "id": "3eda8e42d1067990"
  },
  {
   "cell_type": "code",
   "execution_count": 1,
   "id": "initial_id",
   "metadata": {
    "collapsed": true,
    "ExecuteTime": {
     "end_time": "2023-12-07T11:18:59.948405200Z",
     "start_time": "2023-12-07T11:18:59.581776900Z"
    }
   },
   "outputs": [],
   "source": [
    "from collections import Counter\n",
    "import pandas as pd"
   ]
  },
  {
   "cell_type": "markdown",
   "source": [
    "### Load CSV files"
   ],
   "metadata": {
    "collapsed": false
   },
   "id": "4dd746f8fe1027bd"
  },
  {
   "cell_type": "code",
   "execution_count": 2,
   "outputs": [
    {
     "data": {
      "text/plain": "     award_id                                         award_name  \\\n0           0                                        MOJO Awards   \n1           1  Grammy Award for Best Rock Performance by a Du...   \n2           2              MTV Europe Music Award for Best Album   \n3           3                   Grammy Award for Best Rock Album   \n4           4       Grammy Award for Best Dance/Electronic Album   \n..        ...                                                ...   \n188       188      Latin Grammy Award for Best Recording Package   \n189       189         First prize of the Eurovision Song Contest   \n190       190         MTV Europe Music Award for Best Korean Act   \n191       191                     P3 Gull for Artist of the Year   \n192       192                                       Premios Musa   \n\n                                     award_type  \\\n0                                   MOJO Awards   \n1                                  Grammy Award   \n2                        MTV Europe Music Award   \n3                                  Grammy Award   \n4                                  Grammy Award   \n..                                          ...   \n188                          Latin Grammy Award   \n189  First prize of the Eurovision Song Contest   \n190                      MTV Europe Music Award   \n191                                     P3 Gull   \n192                                Premios Musa   \n\n                                        award_category  \n0                                                  NaN  \n1    Best Rock Performance by a Duo or Group with V...  \n2                                           Best Album  \n3                                      Best Rock Album  \n4                          Best Dance/Electronic Album  \n..                                                 ...  \n188                             Best Recording Package  \n189                                                NaN  \n190                                    Best Korean Act  \n191                                 Artist of the Year  \n192                                                NaN  \n\n[193 rows x 4 columns]",
      "text/html": "<div>\n<style scoped>\n    .dataframe tbody tr th:only-of-type {\n        vertical-align: middle;\n    }\n\n    .dataframe tbody tr th {\n        vertical-align: top;\n    }\n\n    .dataframe thead th {\n        text-align: right;\n    }\n</style>\n<table border=\"1\" class=\"dataframe\">\n  <thead>\n    <tr style=\"text-align: right;\">\n      <th></th>\n      <th>award_id</th>\n      <th>award_name</th>\n      <th>award_type</th>\n      <th>award_category</th>\n    </tr>\n  </thead>\n  <tbody>\n    <tr>\n      <th>0</th>\n      <td>0</td>\n      <td>MOJO Awards</td>\n      <td>MOJO Awards</td>\n      <td>NaN</td>\n    </tr>\n    <tr>\n      <th>1</th>\n      <td>1</td>\n      <td>Grammy Award for Best Rock Performance by a Du...</td>\n      <td>Grammy Award</td>\n      <td>Best Rock Performance by a Duo or Group with V...</td>\n    </tr>\n    <tr>\n      <th>2</th>\n      <td>2</td>\n      <td>MTV Europe Music Award for Best Album</td>\n      <td>MTV Europe Music Award</td>\n      <td>Best Album</td>\n    </tr>\n    <tr>\n      <th>3</th>\n      <td>3</td>\n      <td>Grammy Award for Best Rock Album</td>\n      <td>Grammy Award</td>\n      <td>Best Rock Album</td>\n    </tr>\n    <tr>\n      <th>4</th>\n      <td>4</td>\n      <td>Grammy Award for Best Dance/Electronic Album</td>\n      <td>Grammy Award</td>\n      <td>Best Dance/Electronic Album</td>\n    </tr>\n    <tr>\n      <th>...</th>\n      <td>...</td>\n      <td>...</td>\n      <td>...</td>\n      <td>...</td>\n    </tr>\n    <tr>\n      <th>188</th>\n      <td>188</td>\n      <td>Latin Grammy Award for Best Recording Package</td>\n      <td>Latin Grammy Award</td>\n      <td>Best Recording Package</td>\n    </tr>\n    <tr>\n      <th>189</th>\n      <td>189</td>\n      <td>First prize of the Eurovision Song Contest</td>\n      <td>First prize of the Eurovision Song Contest</td>\n      <td>NaN</td>\n    </tr>\n    <tr>\n      <th>190</th>\n      <td>190</td>\n      <td>MTV Europe Music Award for Best Korean Act</td>\n      <td>MTV Europe Music Award</td>\n      <td>Best Korean Act</td>\n    </tr>\n    <tr>\n      <th>191</th>\n      <td>191</td>\n      <td>P3 Gull for Artist of the Year</td>\n      <td>P3 Gull</td>\n      <td>Artist of the Year</td>\n    </tr>\n    <tr>\n      <th>192</th>\n      <td>192</td>\n      <td>Premios Musa</td>\n      <td>Premios Musa</td>\n      <td>NaN</td>\n    </tr>\n  </tbody>\n</table>\n<p>193 rows × 4 columns</p>\n</div>"
     },
     "execution_count": 2,
     "metadata": {},
     "output_type": "execute_result"
    }
   ],
   "source": [
    "awards = pd.read_csv('../data/wikidata_awards.csv')\n",
    "awards"
   ],
   "metadata": {
    "collapsed": false,
    "ExecuteTime": {
     "end_time": "2023-12-07T11:19:01.384264200Z",
     "start_time": "2023-12-07T11:19:01.348131200Z"
    }
   },
   "id": "adc3970d261eb1e"
  },
  {
   "cell_type": "code",
   "execution_count": 3,
   "outputs": [
    {
     "data": {
      "text/plain": "          artist_spotify_id  award_id award_year\n0    0L8ExT028jH3ddEcZwqJJ5         0          _\n1    0L8ExT028jH3ddEcZwqJJ5         1       2006\n2    0L8ExT028jH3ddEcZwqJJ5         2       2006\n3    0L8ExT028jH3ddEcZwqJJ5         3       2006\n4    4tZwfgrHOc3mvqYlEYSvVi         4       2008\n..                      ...       ...        ...\n994  0ghlgldX5Dd6720Q3qFyQB       186       2020\n995  2KC9Qb60EaY0kW4eH68vr3       186       2020\n996  4yxLYO2imECxGYTTV7RQKb       192          _\n997  5t5FqBwTcgKTaWmfEbwQY9       186       2021\n998  6PvvGcCY2XtUcSRld1Wilr        16       2022\n\n[999 rows x 3 columns]",
      "text/html": "<div>\n<style scoped>\n    .dataframe tbody tr th:only-of-type {\n        vertical-align: middle;\n    }\n\n    .dataframe tbody tr th {\n        vertical-align: top;\n    }\n\n    .dataframe thead th {\n        text-align: right;\n    }\n</style>\n<table border=\"1\" class=\"dataframe\">\n  <thead>\n    <tr style=\"text-align: right;\">\n      <th></th>\n      <th>artist_spotify_id</th>\n      <th>award_id</th>\n      <th>award_year</th>\n    </tr>\n  </thead>\n  <tbody>\n    <tr>\n      <th>0</th>\n      <td>0L8ExT028jH3ddEcZwqJJ5</td>\n      <td>0</td>\n      <td>_</td>\n    </tr>\n    <tr>\n      <th>1</th>\n      <td>0L8ExT028jH3ddEcZwqJJ5</td>\n      <td>1</td>\n      <td>2006</td>\n    </tr>\n    <tr>\n      <th>2</th>\n      <td>0L8ExT028jH3ddEcZwqJJ5</td>\n      <td>2</td>\n      <td>2006</td>\n    </tr>\n    <tr>\n      <th>3</th>\n      <td>0L8ExT028jH3ddEcZwqJJ5</td>\n      <td>3</td>\n      <td>2006</td>\n    </tr>\n    <tr>\n      <th>4</th>\n      <td>4tZwfgrHOc3mvqYlEYSvVi</td>\n      <td>4</td>\n      <td>2008</td>\n    </tr>\n    <tr>\n      <th>...</th>\n      <td>...</td>\n      <td>...</td>\n      <td>...</td>\n    </tr>\n    <tr>\n      <th>994</th>\n      <td>0ghlgldX5Dd6720Q3qFyQB</td>\n      <td>186</td>\n      <td>2020</td>\n    </tr>\n    <tr>\n      <th>995</th>\n      <td>2KC9Qb60EaY0kW4eH68vr3</td>\n      <td>186</td>\n      <td>2020</td>\n    </tr>\n    <tr>\n      <th>996</th>\n      <td>4yxLYO2imECxGYTTV7RQKb</td>\n      <td>192</td>\n      <td>_</td>\n    </tr>\n    <tr>\n      <th>997</th>\n      <td>5t5FqBwTcgKTaWmfEbwQY9</td>\n      <td>186</td>\n      <td>2021</td>\n    </tr>\n    <tr>\n      <th>998</th>\n      <td>6PvvGcCY2XtUcSRld1Wilr</td>\n      <td>16</td>\n      <td>2022</td>\n    </tr>\n  </tbody>\n</table>\n<p>999 rows × 3 columns</p>\n</div>"
     },
     "execution_count": 3,
     "metadata": {},
     "output_type": "execute_result"
    }
   ],
   "source": [
    "statements = pd.read_csv('../data/wikidata_award_statements.csv')\n",
    "statements"
   ],
   "metadata": {
    "collapsed": false,
    "ExecuteTime": {
     "end_time": "2023-12-07T11:19:04.153282Z",
     "start_time": "2023-12-07T11:19:04.110101800Z"
    }
   },
   "id": "4593878889e726d9"
  },
  {
   "cell_type": "markdown",
   "source": [
    "### Preprocessing\n",
    "- try to split type and category with dashes\n",
    "- identify non-unique awards\n",
    "- asssign each award a class based on frequency"
   ],
   "metadata": {
    "collapsed": false
   },
   "id": "5d8a9041f6e49772"
  },
  {
   "cell_type": "code",
   "execution_count": 4,
   "outputs": [],
   "source": [
    "# split by dashes\n",
    "for index, row in awards.iterrows():\n",
    "    aType = row['award_type'].split(' – ', maxsplit=1)\n",
    "    if len(aType) == 1:\n",
    "        aType = row['award_type'].split(' - ', maxsplit=1)\n",
    "    awards.at[index, 'award_type'] = aType[0]\n",
    "    if len(aType) > 1:\n",
    "        awards.at[index, 'award_category'] = aType[1]"
   ],
   "metadata": {
    "collapsed": false,
    "ExecuteTime": {
     "end_time": "2023-12-07T11:19:07.049149800Z",
     "start_time": "2023-12-07T11:19:07.042586200Z"
    }
   },
   "id": "20e2a60090464df7"
  },
  {
   "cell_type": "code",
   "execution_count": 5,
   "outputs": [
    {
     "data": {
      "text/plain": "['Grammy Award',\n 'MTV Europe Music Award',\n 'Academy Award',\n 'Latin Grammy Award',\n 'American Music Award',\n 'Juno Award',\n 'Americana Award',\n 'Gramophone Award',\n 'Spellemann Award',\n 'Soul Train Music Award',\n 'Billboard Music Award']"
     },
     "execution_count": 5,
     "metadata": {},
     "output_type": "execute_result"
    }
   ],
   "source": [
    "# drop duplicates and get a list\n",
    "award_types = awards['award_type'].drop_duplicates().reset_index(drop=True)\n",
    "aw_list = awards['award_type'].tolist()\n",
    "# compute frequencies\n",
    "freq_award = Counter(aw_list)\n",
    "# select awards types that appear at least twice\n",
    "nonunique_awards = [el for el, freq in freq_award.items() if freq >= 2]\n",
    "nonunique_awards"
   ],
   "metadata": {
    "collapsed": false,
    "ExecuteTime": {
     "end_time": "2023-12-07T11:19:09.295131300Z",
     "start_time": "2023-12-07T11:19:09.241903600Z"
    }
   },
   "id": "c2878a249498d95a"
  },
  {
   "cell_type": "markdown",
   "source": [
    "We decided to assign a class separating unique and non-unique awards. "
   ],
   "metadata": {
    "collapsed": false
   },
   "id": "d134783d7a1bf777"
  },
  {
   "cell_type": "code",
   "execution_count": 6,
   "outputs": [
    {
     "data": {
      "text/plain": "     award_id                                         award_name  \\\n0           0                                        MOJO Awards   \n1           1  Grammy Award for Best Rock Performance by a Du...   \n2           2              MTV Europe Music Award for Best Album   \n3           3                   Grammy Award for Best Rock Album   \n4           4       Grammy Award for Best Dance/Electronic Album   \n..        ...                                                ...   \n188       188      Latin Grammy Award for Best Recording Package   \n189       189         First prize of the Eurovision Song Contest   \n190       190         MTV Europe Music Award for Best Korean Act   \n191       191                     P3 Gull for Artist of the Year   \n192       192                                       Premios Musa   \n\n                                     award_type  \\\n0                                   MOJO Awards   \n1                                  Grammy Award   \n2                        MTV Europe Music Award   \n3                                  Grammy Award   \n4                                  Grammy Award   \n..                                          ...   \n188                          Latin Grammy Award   \n189  First prize of the Eurovision Song Contest   \n190                      MTV Europe Music Award   \n191                                     P3 Gull   \n192                                Premios Musa   \n\n                                        award_category   award_class  \n0                                                    _  GenericAward  \n1    Best Rock Performance by a Duo or Group with V...   GrammyAward  \n2                                           Best Album      MTVAward  \n3                                      Best Rock Album   GrammyAward  \n4                          Best Dance/Electronic Album   GrammyAward  \n..                                                 ...           ...  \n188                             Best Recording Package   GrammyAward  \n189                                                  _  GenericAward  \n190                                    Best Korean Act      MTVAward  \n191                                 Artist of the Year  GenericAward  \n192                                                  _  GenericAward  \n\n[193 rows x 5 columns]",
      "text/html": "<div>\n<style scoped>\n    .dataframe tbody tr th:only-of-type {\n        vertical-align: middle;\n    }\n\n    .dataframe tbody tr th {\n        vertical-align: top;\n    }\n\n    .dataframe thead th {\n        text-align: right;\n    }\n</style>\n<table border=\"1\" class=\"dataframe\">\n  <thead>\n    <tr style=\"text-align: right;\">\n      <th></th>\n      <th>award_id</th>\n      <th>award_name</th>\n      <th>award_type</th>\n      <th>award_category</th>\n      <th>award_class</th>\n    </tr>\n  </thead>\n  <tbody>\n    <tr>\n      <th>0</th>\n      <td>0</td>\n      <td>MOJO Awards</td>\n      <td>MOJO Awards</td>\n      <td>_</td>\n      <td>GenericAward</td>\n    </tr>\n    <tr>\n      <th>1</th>\n      <td>1</td>\n      <td>Grammy Award for Best Rock Performance by a Du...</td>\n      <td>Grammy Award</td>\n      <td>Best Rock Performance by a Duo or Group with V...</td>\n      <td>GrammyAward</td>\n    </tr>\n    <tr>\n      <th>2</th>\n      <td>2</td>\n      <td>MTV Europe Music Award for Best Album</td>\n      <td>MTV Europe Music Award</td>\n      <td>Best Album</td>\n      <td>MTVAward</td>\n    </tr>\n    <tr>\n      <th>3</th>\n      <td>3</td>\n      <td>Grammy Award for Best Rock Album</td>\n      <td>Grammy Award</td>\n      <td>Best Rock Album</td>\n      <td>GrammyAward</td>\n    </tr>\n    <tr>\n      <th>4</th>\n      <td>4</td>\n      <td>Grammy Award for Best Dance/Electronic Album</td>\n      <td>Grammy Award</td>\n      <td>Best Dance/Electronic Album</td>\n      <td>GrammyAward</td>\n    </tr>\n    <tr>\n      <th>...</th>\n      <td>...</td>\n      <td>...</td>\n      <td>...</td>\n      <td>...</td>\n      <td>...</td>\n    </tr>\n    <tr>\n      <th>188</th>\n      <td>188</td>\n      <td>Latin Grammy Award for Best Recording Package</td>\n      <td>Latin Grammy Award</td>\n      <td>Best Recording Package</td>\n      <td>GrammyAward</td>\n    </tr>\n    <tr>\n      <th>189</th>\n      <td>189</td>\n      <td>First prize of the Eurovision Song Contest</td>\n      <td>First prize of the Eurovision Song Contest</td>\n      <td>_</td>\n      <td>GenericAward</td>\n    </tr>\n    <tr>\n      <th>190</th>\n      <td>190</td>\n      <td>MTV Europe Music Award for Best Korean Act</td>\n      <td>MTV Europe Music Award</td>\n      <td>Best Korean Act</td>\n      <td>MTVAward</td>\n    </tr>\n    <tr>\n      <th>191</th>\n      <td>191</td>\n      <td>P3 Gull for Artist of the Year</td>\n      <td>P3 Gull</td>\n      <td>Artist of the Year</td>\n      <td>GenericAward</td>\n    </tr>\n    <tr>\n      <th>192</th>\n      <td>192</td>\n      <td>Premios Musa</td>\n      <td>Premios Musa</td>\n      <td>_</td>\n      <td>GenericAward</td>\n    </tr>\n  </tbody>\n</table>\n<p>193 rows × 5 columns</p>\n</div>"
     },
     "execution_count": 6,
     "metadata": {},
     "output_type": "execute_result"
    }
   ],
   "source": [
    "# add award class column based on previous result\n",
    "awards['award_category'] = awards['award_category'].fillna('_')\n",
    "award_class = []\n",
    "for index, row in awards.iterrows():\n",
    "    award_type = row['award_type']\n",
    "    if 'MTV' in award_type:\n",
    "        award_class.append('MTVAward')\n",
    "    elif 'Grammy' in award_type:\n",
    "        award_class.append('GrammyAward')\n",
    "    elif 'Americana' in award_type:\n",
    "        award_class.append('AmericanaAward')\n",
    "    elif 'American Music' in award_type:\n",
    "        award_class.append('AmericanMusicAward')\n",
    "    elif 'Juno' in award_type:\n",
    "        award_class.append('JunoAward')\n",
    "    elif 'Spellemann' in award_type:\n",
    "        award_class.append('SpellemannAward')\n",
    "    elif 'Soul Train' in award_type:\n",
    "        award_class.append('SoulTrainAward')\n",
    "    elif 'Billboard' in award_type:\n",
    "        award_class.append('BillboardAward')\n",
    "    elif 'Academy' in award_type:\n",
    "        award_class.append('AcademyAward')\n",
    "    elif 'Gramophone' in award_type:\n",
    "        award_class.append('GramophoneAward')\n",
    "    else:\n",
    "        award_class.append('GenericAward')\n",
    "        \n",
    "awards['award_class'] = award_class\n",
    "awards"
   ],
   "metadata": {
    "collapsed": false,
    "ExecuteTime": {
     "end_time": "2023-12-07T11:19:12.732082600Z",
     "start_time": "2023-12-07T11:19:12.662694900Z"
    }
   },
   "id": "3d59a9561f6a6c1"
  },
  {
   "cell_type": "code",
   "execution_count": 7,
   "outputs": [],
   "source": [
    "awards.to_csv('../data/wikidata_awards_processed.csv', index=False)"
   ],
   "metadata": {
    "collapsed": false,
    "ExecuteTime": {
     "end_time": "2023-12-07T11:19:29.372533700Z",
     "start_time": "2023-12-07T11:19:29.344292400Z"
    }
   },
   "id": "2f35d8325b134ab6"
  },
  {
   "cell_type": "markdown",
   "source": [
    "### Write TTL file"
   ],
   "metadata": {
    "collapsed": false
   },
   "id": "e2492799688be36e"
  },
  {
   "cell_type": "code",
   "execution_count": 8,
   "outputs": [],
   "source": [
    "award_types = ['MTVAward',\n",
    "               'GrammyAward',\n",
    "               'AmericanaAward',\n",
    "               'AmericanMusicAward',\n",
    "               'JunoAward',\n",
    "               'SpellemannAward',\n",
    "               'SoulTrainAward',\n",
    "               'BillboardAward',\n",
    "               'AcademyAward',\n",
    "               'GramophoneAward',\n",
    "               'GenericAward']"
   ],
   "metadata": {
    "collapsed": false,
    "ExecuteTime": {
     "end_time": "2023-12-07T11:19:34.611959800Z",
     "start_time": "2023-12-07T11:19:34.604439600Z"
    }
   },
   "id": "69cc896578d8420a"
  },
  {
   "cell_type": "code",
   "execution_count": 24,
   "outputs": [],
   "source": [
    "ttl_file = open('../rdf/awards_classes.ttl', 'w')\n",
    "\n",
    "# write prefixes\n",
    "ttl_file.write('@prefix : <https://www.dei.unipd.it/db2/ontology/soundgraph#> .\\n')\n",
    "ttl_file.write('@prefix owl: <http://www.w3.org/2002/07/owl#> .\\n')\n",
    "ttl_file.write('@prefix rdf: <http://www.w3.org/1999/02/22-rdf-syntax-ns#> .\\n')\n",
    "ttl_file.write('@prefix rdfs: <http://www.w3.org/2000/01/rdf-schema#> .\\n')\n",
    "ttl_file.write('@base <https://www.dei.unipd.it/db2/ontology/soundgraph#> .\\n')\n",
    "\n",
    "# create one class per year for each award_type\n",
    "idx = 0\n",
    "disjoint_classes = [[] for i in range(len(award_types))]\n",
    "for award_type in award_types:\n",
    "    with_year = statements[statements['award_year'] != '_']\n",
    "    with_year = with_year[with_year['award_id'].isin(awards[awards['award_class'] == award_type]['award_id'])]\n",
    "    \n",
    "    min_year = int(with_year['award_year'].min())\n",
    "    max_year = int(with_year['award_year'].max())\n",
    "    \n",
    "    for award_year in range(min_year, max_year + 1):\n",
    "        disjoint_classes[idx].append(f':{award_type}{award_year}')\n",
    "        ttl_file.write('# class %s%d\\n' % (award_type, award_year))\n",
    "        ttl_file.write(':%s%d rdf:type owl:Class ;\\n\\towl:equivalentClass [\\n\\t\\trdf:type owl:Restriction ;\\n\\t\\towl:onProperty :awardYear ;\\n\\t\\towl:hasValue %d\\n\\t] ;\\n\\trdfs:subClassOf :%s .\\n\\n'\n",
    "                       % (award_type, award_year, award_year, award_type))\n",
    "    idx += 1\n",
    "\n",
    "# write axioms to make classes disjoint\n",
    "ttl_file.write('\\n# axioms\\n')\n",
    "for disjoint_group in disjoint_classes:\n",
    "    ttl_file.write('[ rdf:type owl:AllDisjointClasses ;\\n\\towl:members (\\n\\t\\t%s\\n\\t)\\n] .\\n\\n' % '\\n\\t\\t'.join(disjoint_group))\n",
    "    \n",
    "ttl_file.close()"
   ],
   "metadata": {
    "collapsed": false,
    "ExecuteTime": {
     "end_time": "2023-12-04T22:01:41.737130200Z",
     "start_time": "2023-12-04T22:01:41.627131800Z"
    }
   },
   "id": "130bfd631485f6fb"
  }
 ],
 "metadata": {
  "kernelspec": {
   "name": "db2",
   "language": "python",
   "display_name": "db2"
  },
  "language_info": {
   "codemirror_mode": {
    "name": "ipython",
    "version": 2
   },
   "file_extension": ".py",
   "mimetype": "text/x-python",
   "name": "python",
   "nbconvert_exporter": "python",
   "pygments_lexer": "ipython2",
   "version": "2.7.6"
  }
 },
 "nbformat": 4,
 "nbformat_minor": 5
}
