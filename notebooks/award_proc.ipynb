{
 "cells": [
  {
   "cell_type": "markdown",
   "source": [
    "### Import libraries"
   ],
   "metadata": {
    "collapsed": false
   },
   "id": "3eda8e42d1067990"
  },
  {
   "cell_type": "code",
   "execution_count": 1,
   "id": "initial_id",
   "metadata": {
    "collapsed": true,
    "ExecuteTime": {
     "end_time": "2023-12-04T18:38:08.008166300Z",
     "start_time": "2023-12-04T18:38:07.594949200Z"
    }
   },
   "outputs": [],
   "source": [
    "from collections import Counter\n",
    "import pandas as pd"
   ]
  },
  {
   "cell_type": "markdown",
   "source": [
    "### Load CSV files"
   ],
   "metadata": {
    "collapsed": false
   },
   "id": "4dd746f8fe1027bd"
  },
  {
   "cell_type": "code",
   "execution_count": 3,
   "outputs": [
    {
     "data": {
      "text/plain": "     award_id                                         award_name  \\\n0           0                                        MOJO Awards   \n1           1  Grammy Award for Best Rock Performance by a Du...   \n2           2              MTV Europe Music Award for Best Album   \n3           3                   Grammy Award for Best Rock Album   \n4           4       Grammy Award for Best Dance/Electronic Album   \n..        ...                                                ...   \n188       188      Latin Grammy Award for Best Recording Package   \n189       189         First prize of the Eurovision Song Contest   \n190       190         MTV Europe Music Award for Best Korean Act   \n191       191                     P3 Gull for Artist of the Year   \n192       192                                       Premios Musa   \n\n                                     award_type  \\\n0                                   MOJO Awards   \n1                                  Grammy Award   \n2                        MTV Europe Music Award   \n3                                  Grammy Award   \n4                                  Grammy Award   \n..                                          ...   \n188                          Latin Grammy Award   \n189  First prize of the Eurovision Song Contest   \n190                      MTV Europe Music Award   \n191                                     P3 Gull   \n192                                Premios Musa   \n\n                                        award_category  \n0                                                  NaN  \n1    Best Rock Performance by a Duo or Group with V...  \n2                                           Best Album  \n3                                      Best Rock Album  \n4                          Best Dance/Electronic Album  \n..                                                 ...  \n188                             Best Recording Package  \n189                                                NaN  \n190                                    Best Korean Act  \n191                                 Artist of the Year  \n192                                                NaN  \n\n[193 rows x 4 columns]",
      "text/html": "<div>\n<style scoped>\n    .dataframe tbody tr th:only-of-type {\n        vertical-align: middle;\n    }\n\n    .dataframe tbody tr th {\n        vertical-align: top;\n    }\n\n    .dataframe thead th {\n        text-align: right;\n    }\n</style>\n<table border=\"1\" class=\"dataframe\">\n  <thead>\n    <tr style=\"text-align: right;\">\n      <th></th>\n      <th>award_id</th>\n      <th>award_name</th>\n      <th>award_type</th>\n      <th>award_category</th>\n    </tr>\n  </thead>\n  <tbody>\n    <tr>\n      <th>0</th>\n      <td>0</td>\n      <td>MOJO Awards</td>\n      <td>MOJO Awards</td>\n      <td>NaN</td>\n    </tr>\n    <tr>\n      <th>1</th>\n      <td>1</td>\n      <td>Grammy Award for Best Rock Performance by a Du...</td>\n      <td>Grammy Award</td>\n      <td>Best Rock Performance by a Duo or Group with V...</td>\n    </tr>\n    <tr>\n      <th>2</th>\n      <td>2</td>\n      <td>MTV Europe Music Award for Best Album</td>\n      <td>MTV Europe Music Award</td>\n      <td>Best Album</td>\n    </tr>\n    <tr>\n      <th>3</th>\n      <td>3</td>\n      <td>Grammy Award for Best Rock Album</td>\n      <td>Grammy Award</td>\n      <td>Best Rock Album</td>\n    </tr>\n    <tr>\n      <th>4</th>\n      <td>4</td>\n      <td>Grammy Award for Best Dance/Electronic Album</td>\n      <td>Grammy Award</td>\n      <td>Best Dance/Electronic Album</td>\n    </tr>\n    <tr>\n      <th>...</th>\n      <td>...</td>\n      <td>...</td>\n      <td>...</td>\n      <td>...</td>\n    </tr>\n    <tr>\n      <th>188</th>\n      <td>188</td>\n      <td>Latin Grammy Award for Best Recording Package</td>\n      <td>Latin Grammy Award</td>\n      <td>Best Recording Package</td>\n    </tr>\n    <tr>\n      <th>189</th>\n      <td>189</td>\n      <td>First prize of the Eurovision Song Contest</td>\n      <td>First prize of the Eurovision Song Contest</td>\n      <td>NaN</td>\n    </tr>\n    <tr>\n      <th>190</th>\n      <td>190</td>\n      <td>MTV Europe Music Award for Best Korean Act</td>\n      <td>MTV Europe Music Award</td>\n      <td>Best Korean Act</td>\n    </tr>\n    <tr>\n      <th>191</th>\n      <td>191</td>\n      <td>P3 Gull for Artist of the Year</td>\n      <td>P3 Gull</td>\n      <td>Artist of the Year</td>\n    </tr>\n    <tr>\n      <th>192</th>\n      <td>192</td>\n      <td>Premios Musa</td>\n      <td>Premios Musa</td>\n      <td>NaN</td>\n    </tr>\n  </tbody>\n</table>\n<p>193 rows × 4 columns</p>\n</div>"
     },
     "execution_count": 3,
     "metadata": {},
     "output_type": "execute_result"
    }
   ],
   "source": [
    "awards = pd.read_csv('../data/wikidata_awards.csv')\n",
    "awards"
   ],
   "metadata": {
    "collapsed": false,
    "ExecuteTime": {
     "end_time": "2023-12-04T18:38:17.041781Z",
     "start_time": "2023-12-04T18:38:16.911735Z"
    }
   },
   "id": "adc3970d261eb1e"
  },
  {
   "cell_type": "code",
   "execution_count": 4,
   "outputs": [
    {
     "data": {
      "text/plain": "           artist_spotify_id  award_id award_year\n0     0L8ExT028jH3ddEcZwqJJ5         0          _\n1     0L8ExT028jH3ddEcZwqJJ5         1       2006\n2     0L8ExT028jH3ddEcZwqJJ5         2       2006\n3     0L8ExT028jH3ddEcZwqJJ5         3       2006\n4     4tZwfgrHOc3mvqYlEYSvVi         4       2008\n...                      ...       ...        ...\n997   0ghlgldX5Dd6720Q3qFyQB       186       2020\n998   2KC9Qb60EaY0kW4eH68vr3       186       2020\n999   4yxLYO2imECxGYTTV7RQKb       192          _\n1000  5t5FqBwTcgKTaWmfEbwQY9       186       2021\n1001  6PvvGcCY2XtUcSRld1Wilr        16       2022\n\n[1002 rows x 3 columns]",
      "text/html": "<div>\n<style scoped>\n    .dataframe tbody tr th:only-of-type {\n        vertical-align: middle;\n    }\n\n    .dataframe tbody tr th {\n        vertical-align: top;\n    }\n\n    .dataframe thead th {\n        text-align: right;\n    }\n</style>\n<table border=\"1\" class=\"dataframe\">\n  <thead>\n    <tr style=\"text-align: right;\">\n      <th></th>\n      <th>artist_spotify_id</th>\n      <th>award_id</th>\n      <th>award_year</th>\n    </tr>\n  </thead>\n  <tbody>\n    <tr>\n      <th>0</th>\n      <td>0L8ExT028jH3ddEcZwqJJ5</td>\n      <td>0</td>\n      <td>_</td>\n    </tr>\n    <tr>\n      <th>1</th>\n      <td>0L8ExT028jH3ddEcZwqJJ5</td>\n      <td>1</td>\n      <td>2006</td>\n    </tr>\n    <tr>\n      <th>2</th>\n      <td>0L8ExT028jH3ddEcZwqJJ5</td>\n      <td>2</td>\n      <td>2006</td>\n    </tr>\n    <tr>\n      <th>3</th>\n      <td>0L8ExT028jH3ddEcZwqJJ5</td>\n      <td>3</td>\n      <td>2006</td>\n    </tr>\n    <tr>\n      <th>4</th>\n      <td>4tZwfgrHOc3mvqYlEYSvVi</td>\n      <td>4</td>\n      <td>2008</td>\n    </tr>\n    <tr>\n      <th>...</th>\n      <td>...</td>\n      <td>...</td>\n      <td>...</td>\n    </tr>\n    <tr>\n      <th>997</th>\n      <td>0ghlgldX5Dd6720Q3qFyQB</td>\n      <td>186</td>\n      <td>2020</td>\n    </tr>\n    <tr>\n      <th>998</th>\n      <td>2KC9Qb60EaY0kW4eH68vr3</td>\n      <td>186</td>\n      <td>2020</td>\n    </tr>\n    <tr>\n      <th>999</th>\n      <td>4yxLYO2imECxGYTTV7RQKb</td>\n      <td>192</td>\n      <td>_</td>\n    </tr>\n    <tr>\n      <th>1000</th>\n      <td>5t5FqBwTcgKTaWmfEbwQY9</td>\n      <td>186</td>\n      <td>2021</td>\n    </tr>\n    <tr>\n      <th>1001</th>\n      <td>6PvvGcCY2XtUcSRld1Wilr</td>\n      <td>16</td>\n      <td>2022</td>\n    </tr>\n  </tbody>\n</table>\n<p>1002 rows × 3 columns</p>\n</div>"
     },
     "execution_count": 4,
     "metadata": {},
     "output_type": "execute_result"
    }
   ],
   "source": [
    "statements = pd.read_csv('../data/wikidata_award_statements.csv')\n",
    "statements"
   ],
   "metadata": {
    "collapsed": false,
    "ExecuteTime": {
     "end_time": "2023-12-04T18:38:19.460592400Z",
     "start_time": "2023-12-04T18:38:19.448656300Z"
    }
   },
   "id": "4593878889e726d9"
  },
  {
   "cell_type": "markdown",
   "source": [
    "### Preprocessing\n",
    "- try to split type and category with dashes\n",
    "- identify non-unique awards\n",
    "- asssign each award a class based on frequency"
   ],
   "metadata": {
    "collapsed": false
   },
   "id": "5d8a9041f6e49772"
  },
  {
   "cell_type": "code",
   "execution_count": 5,
   "outputs": [],
   "source": [
    "# split by dashes\n",
    "for index, row in awards.iterrows():\n",
    "    aType = row['award_type'].split(' – ', maxsplit=1)\n",
    "    if len(aType) == 1:\n",
    "        aType = row['award_type'].split(' - ', maxsplit=1)\n",
    "    awards.at[index, 'award_type'] = aType[0]\n",
    "    if len(aType) > 1:\n",
    "        awards.at[index, 'award_category'] = aType[1]"
   ],
   "metadata": {
    "collapsed": false,
    "ExecuteTime": {
     "end_time": "2023-12-04T18:38:22.930402400Z",
     "start_time": "2023-12-04T18:38:22.928401400Z"
    }
   },
   "id": "20e2a60090464df7"
  },
  {
   "cell_type": "code",
   "execution_count": 6,
   "outputs": [
    {
     "data": {
      "text/plain": "['Grammy Award',\n 'MTV Europe Music Award',\n 'Academy Award',\n 'Latin Grammy Award',\n 'American Music Award',\n 'Juno Award',\n 'Americana Award',\n 'Gramophone Award',\n 'Spellemann Award',\n 'Soul Train Music Award',\n 'Billboard Music Award']"
     },
     "execution_count": 6,
     "metadata": {},
     "output_type": "execute_result"
    }
   ],
   "source": [
    "# drop duplicates and get a list\n",
    "award_types = awards['award_type'].drop_duplicates().reset_index(drop=True)\n",
    "aw_list = awards['award_type'].tolist()\n",
    "# compute frequencies\n",
    "freq_award = Counter(aw_list)\n",
    "# select awards types that appear at least twice\n",
    "atleast2 = [el for el, freq in freq_award.items() if freq >= 2]\n",
    "atleast2"
   ],
   "metadata": {
    "collapsed": false,
    "ExecuteTime": {
     "end_time": "2023-12-04T18:38:25.658195100Z",
     "start_time": "2023-12-04T18:38:25.608188400Z"
    }
   },
   "id": "c2878a249498d95a"
  },
  {
   "cell_type": "code",
   "execution_count": 7,
   "outputs": [
    {
     "data": {
      "text/plain": "     award_id                                         award_name  \\\n0           0                                        MOJO Awards   \n1           1  Grammy Award for Best Rock Performance by a Du...   \n2           2              MTV Europe Music Award for Best Album   \n3           3                   Grammy Award for Best Rock Album   \n4           4       Grammy Award for Best Dance/Electronic Album   \n..        ...                                                ...   \n188       188      Latin Grammy Award for Best Recording Package   \n189       189         First prize of the Eurovision Song Contest   \n190       190         MTV Europe Music Award for Best Korean Act   \n191       191                     P3 Gull for Artist of the Year   \n192       192                                       Premios Musa   \n\n                                     award_type  \\\n0                                   MOJO Awards   \n1                                  Grammy Award   \n2                        MTV Europe Music Award   \n3                                  Grammy Award   \n4                                  Grammy Award   \n..                                          ...   \n188                          Latin Grammy Award   \n189  First prize of the Eurovision Song Contest   \n190                      MTV Europe Music Award   \n191                                     P3 Gull   \n192                                Premios Musa   \n\n                                        award_category award_class  \n0                                                    _     Generic  \n1    Best Rock Performance by a Duo or Group with V...      Grammy  \n2                                           Best Album         MTV  \n3                                      Best Rock Album      Grammy  \n4                          Best Dance/Electronic Album      Grammy  \n..                                                 ...         ...  \n188                             Best Recording Package      Grammy  \n189                                                  _     Generic  \n190                                    Best Korean Act         MTV  \n191                                 Artist of the Year     Generic  \n192                                                  _     Generic  \n\n[193 rows x 5 columns]",
      "text/html": "<div>\n<style scoped>\n    .dataframe tbody tr th:only-of-type {\n        vertical-align: middle;\n    }\n\n    .dataframe tbody tr th {\n        vertical-align: top;\n    }\n\n    .dataframe thead th {\n        text-align: right;\n    }\n</style>\n<table border=\"1\" class=\"dataframe\">\n  <thead>\n    <tr style=\"text-align: right;\">\n      <th></th>\n      <th>award_id</th>\n      <th>award_name</th>\n      <th>award_type</th>\n      <th>award_category</th>\n      <th>award_class</th>\n    </tr>\n  </thead>\n  <tbody>\n    <tr>\n      <th>0</th>\n      <td>0</td>\n      <td>MOJO Awards</td>\n      <td>MOJO Awards</td>\n      <td>_</td>\n      <td>Generic</td>\n    </tr>\n    <tr>\n      <th>1</th>\n      <td>1</td>\n      <td>Grammy Award for Best Rock Performance by a Du...</td>\n      <td>Grammy Award</td>\n      <td>Best Rock Performance by a Duo or Group with V...</td>\n      <td>Grammy</td>\n    </tr>\n    <tr>\n      <th>2</th>\n      <td>2</td>\n      <td>MTV Europe Music Award for Best Album</td>\n      <td>MTV Europe Music Award</td>\n      <td>Best Album</td>\n      <td>MTV</td>\n    </tr>\n    <tr>\n      <th>3</th>\n      <td>3</td>\n      <td>Grammy Award for Best Rock Album</td>\n      <td>Grammy Award</td>\n      <td>Best Rock Album</td>\n      <td>Grammy</td>\n    </tr>\n    <tr>\n      <th>4</th>\n      <td>4</td>\n      <td>Grammy Award for Best Dance/Electronic Album</td>\n      <td>Grammy Award</td>\n      <td>Best Dance/Electronic Album</td>\n      <td>Grammy</td>\n    </tr>\n    <tr>\n      <th>...</th>\n      <td>...</td>\n      <td>...</td>\n      <td>...</td>\n      <td>...</td>\n      <td>...</td>\n    </tr>\n    <tr>\n      <th>188</th>\n      <td>188</td>\n      <td>Latin Grammy Award for Best Recording Package</td>\n      <td>Latin Grammy Award</td>\n      <td>Best Recording Package</td>\n      <td>Grammy</td>\n    </tr>\n    <tr>\n      <th>189</th>\n      <td>189</td>\n      <td>First prize of the Eurovision Song Contest</td>\n      <td>First prize of the Eurovision Song Contest</td>\n      <td>_</td>\n      <td>Generic</td>\n    </tr>\n    <tr>\n      <th>190</th>\n      <td>190</td>\n      <td>MTV Europe Music Award for Best Korean Act</td>\n      <td>MTV Europe Music Award</td>\n      <td>Best Korean Act</td>\n      <td>MTV</td>\n    </tr>\n    <tr>\n      <th>191</th>\n      <td>191</td>\n      <td>P3 Gull for Artist of the Year</td>\n      <td>P3 Gull</td>\n      <td>Artist of the Year</td>\n      <td>Generic</td>\n    </tr>\n    <tr>\n      <th>192</th>\n      <td>192</td>\n      <td>Premios Musa</td>\n      <td>Premios Musa</td>\n      <td>_</td>\n      <td>Generic</td>\n    </tr>\n  </tbody>\n</table>\n<p>193 rows × 5 columns</p>\n</div>"
     },
     "execution_count": 7,
     "metadata": {},
     "output_type": "execute_result"
    }
   ],
   "source": [
    "# add award class column based on previous result\n",
    "awards['award_category'] = awards['award_category'].fillna('_')\n",
    "award_class = []\n",
    "for index, row in awards.iterrows():\n",
    "    award_type = row['award_type']\n",
    "    if 'MTV' in award_type:\n",
    "        award_class.append('MTV')\n",
    "    elif 'Grammy' in award_type:\n",
    "        award_class.append('Grammy')\n",
    "    elif 'Americana' in award_type:\n",
    "        award_class.append('Americana')\n",
    "    elif 'American Music' in award_type:\n",
    "        award_class.append('American Music')\n",
    "    elif 'Juno' in award_type:\n",
    "        award_class.append('Juno')\n",
    "    elif 'Spellemann' in award_type:\n",
    "        award_class.append('Spellemann')\n",
    "    elif 'Soul Train' in award_type:\n",
    "        award_class.append('Soul Train')\n",
    "    elif 'Billboard' in award_type:\n",
    "        award_class.append('Billboard')\n",
    "    elif 'Academy' in award_type:\n",
    "        award_class.append('Academy')\n",
    "    elif 'Gramophone' in award_type:\n",
    "        award_class.append('Gramophone')\n",
    "    else:\n",
    "        award_class.append('Generic')\n",
    "        \n",
    "awards['award_class'] = award_class\n",
    "awards"
   ],
   "metadata": {
    "collapsed": false,
    "ExecuteTime": {
     "end_time": "2023-12-04T18:38:30.515373800Z",
     "start_time": "2023-12-04T18:38:30.470372300Z"
    }
   },
   "id": "3d59a9561f6a6c1"
  },
  {
   "cell_type": "markdown",
   "source": [
    "### TTL file"
   ],
   "metadata": {
    "collapsed": false
   },
   "id": "e2492799688be36e"
  },
  {
   "cell_type": "code",
   "execution_count": null,
   "outputs": [],
   "source": [
    "\"\"\"### https://www.dei.unipd.it/db2/ontology/soundgraph#GrammyAward2012\n",
    ":%s%s rdf:type owl:Class ;\n",
    "                 owl:equivalentClass [ rdf:type owl:Restriction ;\n",
    "                                       owl:onProperty :awardYear ;\n",
    "                                       owl:hasValue %s\n",
    "                                     ] ;\n",
    "                 rdfs:subClassOf :%s . \"\"\" % award_type, award_year, award_year, award_type"
   ],
   "metadata": {
    "collapsed": false
   },
   "id": "e8c41418bdae8197"
  }
 ],
 "metadata": {
  "kernelspec": {
   "name": "db2",
   "language": "python",
   "display_name": "db2"
  },
  "language_info": {
   "codemirror_mode": {
    "name": "ipython",
    "version": 2
   },
   "file_extension": ".py",
   "mimetype": "text/x-python",
   "name": "python",
   "nbconvert_exporter": "python",
   "pygments_lexer": "ipython2",
   "version": "2.7.6"
  }
 },
 "nbformat": 4,
 "nbformat_minor": 5
}
