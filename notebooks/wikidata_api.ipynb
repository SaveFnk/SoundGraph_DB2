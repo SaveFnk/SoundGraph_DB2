{
 "cells": [
  {
   "cell_type": "code",
   "execution_count": 1,
   "id": "95cdc2b0-c57c-4563-a973-7800cb82eb8e",
   "metadata": {
    "ExecuteTime": {
     "end_time": "2023-12-07T10:32:02.912940500Z",
     "start_time": "2023-12-07T10:31:59.491005800Z"
    }
   },
   "outputs": [],
   "source": [
    "from tqdm import tqdm\n",
    "from SPARQLWrapper import SPARQLWrapper, JSON\n",
    "import pandas as pd\n",
    "import re\n",
    "import sys"
   ]
  },
  {
   "cell_type": "markdown",
   "id": "9e2f2381-68c5-4761-99b0-76630f274861",
   "metadata": {},
   "source": [
    "## Querying Wikidata\n",
    "These functions query Wikidata database to extract artists info, such as:\n",
    "- name of the artist\n",
    "- website of the artist\n",
    "- start of working period (only year)\n",
    "- end of working period (only year)\n",
    "- when the artist has dissolved (if ever; only year)\n",
    "- citizenship(s) for humans and country of origin for groups\n",
    "- the awards the artist won"
   ]
  },
  {
   "cell_type": "code",
   "execution_count": 2,
   "id": "736bbd06-bc75-474e-b469-24f68277eef7",
   "metadata": {
    "ExecuteTime": {
     "end_time": "2023-12-07T10:32:08.441613500Z",
     "start_time": "2023-12-07T10:32:08.398946300Z"
    }
   },
   "outputs": [],
   "source": [
    "# function that given a spotify artist ID looks for data about the artist\n",
    "def get_info_by_spotify_id(spotify_artist_id):\n",
    "    url = \"https://query.wikidata.org/sparql\"\n",
    "    \n",
    "    query = \"\"\"\n",
    "        SELECT ?artist ?artistLabel (YEAR(?startPeriod) AS ?start) (YEAR(?endPeriod) AS ?end) (YEAR(?dissolvedTime) AS ?dissolved) ?websiteLabel\n",
    "        WHERE {\n",
    "            ?artist wdt:P1902 \"%s\" .\n",
    "            OPTIONAL { ?artist wdt:P856 ?website . }\n",
    "            OPTIONAL { ?artist wdt:P2031 ?startPeriod . }\n",
    "            OPTIONAL { ?artist wdt:P2032 ?endPeriod . }\n",
    "            OPTIONAL { ?artist wdt:P576 ?dissolvedTime . }\n",
    "            SERVICE wikibase:label { bd:serviceParam wikibase:language \"en\" . }\n",
    "        }\n",
    "    \"\"\" % spotify_artist_id\n",
    "\n",
    "    user_agent = \"database2_project Python/%s.%s\" % (sys.version_info[0], sys.version_info[1])\n",
    "    \n",
    "    sparql = SPARQLWrapper(url, agent=user_agent)\n",
    "    sparql.setQuery(query)\n",
    "    sparql.setReturnFormat(JSON)\n",
    "    results = sparql.query().convert()\n",
    "\n",
    "    # there can be at most 1 row (else, duplicate Spotify ID but luckily this cannot happen)\n",
    "    # so if there is len != 0 it can only be 1 -> return first element of the list\n",
    "    if len(results['results']['bindings']):\n",
    "        return results['results']['bindings'][0]\n",
    "    else: # if len == 0, no result\n",
    "        return None"
   ]
  },
  {
   "cell_type": "code",
   "execution_count": 3,
   "id": "26257559-7a13-4aed-80a9-d76b53420bca",
   "metadata": {
    "ExecuteTime": {
     "end_time": "2023-12-07T10:32:14.087648600Z",
     "start_time": "2023-12-07T10:32:14.015873500Z"
    }
   },
   "outputs": [],
   "source": [
    "# function that given the artist's name looks for data about the artist\n",
    "def get_info_by_label(artist_label):\n",
    "    url = \"https://query.wikidata.org/sparql\"\n",
    "    \n",
    "    query = \"\"\"\n",
    "        SELECT ?artist ?artistLabel (YEAR(?startPeriod) AS ?start) (YEAR(?endPeriod) AS ?end) (YEAR(?dissolvedTime) AS ?dissolved) ?websiteLabel\n",
    "        WHERE {\n",
    "            ?artist rdfs:label \"%s\"@en .\n",
    "            OPTIONAL { ?artist wdt:P856 ?website . }\n",
    "            OPTIONAL { ?artist wdt:P2031 ?startPeriod . }\n",
    "            OPTIONAL { ?artist wdt:P2032 ?endPeriod . }\n",
    "            OPTIONAL { ?artist wdt:P576 ?dissolvedTime . }\n",
    "            SERVICE wikibase:label { bd:serviceParam wikibase:language \"en\" . }\n",
    "        }\n",
    "        LIMIT 1\n",
    "    \"\"\" % artist_label\n",
    "\n",
    "    user_agent = \"database2_project Python/%s.%s\" % (sys.version_info[0], sys.version_info[1])\n",
    "    \n",
    "    sparql = SPARQLWrapper(url, agent=user_agent)\n",
    "    sparql.setQuery(query)\n",
    "    sparql.setReturnFormat(JSON)\n",
    "    results = sparql.query().convert()\n",
    "\n",
    "    # there can be at most 1 row (LIMIT 1)\n",
    "    # -> return first element of the list\n",
    "    if len(results['results']['bindings']):\n",
    "      return results['results']['bindings'][0]\n",
    "    else: # if len == 0, no result\n",
    "      return None"
   ]
  },
  {
   "cell_type": "code",
   "execution_count": 4,
   "id": "b5561964-5c64-43df-94e5-097a3fcff3c0",
   "metadata": {
    "ExecuteTime": {
     "end_time": "2023-12-07T10:32:14.770739900Z",
     "start_time": "2023-12-07T10:32:14.720881Z"
    }
   },
   "outputs": [],
   "source": [
    "# function that given the artist's name looks for data about the artist\n",
    "def get_countrycode_by_wd_entity(entity_id):\n",
    "    url = \"https://query.wikidata.org/sparql\"\n",
    "    \n",
    "    query = \"\"\"\n",
    "        SELECT DISTINCT ?iso31661alpha2codeLabel\n",
    "        WHERE {\n",
    "            VALUES ?types {wd:Q2088357 wd:Q5}\n",
    "            wd:%s ?prop ?country .\n",
    "            ?country p:P31/ps:P31/wdt:P279* wd:Q6256 ;\n",
    "                     wdt:P297 ?iso31661alpha2code .\n",
    "            SERVICE wikibase:label {bd:serviceParam wikibase:language \"en\" . }\n",
    "        }\n",
    "    \"\"\" % entity_id\n",
    "\n",
    "    user_agent = \"database2_project Python/%s.%s\" % (sys.version_info[0], sys.version_info[1])\n",
    "    \n",
    "    sparql = SPARQLWrapper(url, agent=user_agent)\n",
    "    sparql.setQuery(query)\n",
    "    sparql.setReturnFormat(JSON)\n",
    "    results = sparql.query().convert()\n",
    "\n",
    "    # there can be more than one country, so return everything\n",
    "    if len(results['results']['bindings']):\n",
    "      return results['results']['bindings']\n",
    "    else: # if len == 0, no result\n",
    "      return None"
   ]
  },
  {
   "cell_type": "code",
   "execution_count": 5,
   "id": "c1065b29-cf98-4b44-9144-93fb5fd37e52",
   "metadata": {
    "ExecuteTime": {
     "end_time": "2023-12-07T10:32:15.650564900Z",
     "start_time": "2023-12-07T10:32:15.566361700Z"
    }
   },
   "outputs": [],
   "source": [
    "def get_awards_by_wd_entity(entity_id):\n",
    "    url = \"https://query.wikidata.org/sparql\"\n",
    "    \n",
    "    query = \"\"\"\n",
    "        SELECT DISTINCT ?awardLabel (YEAR(?awardDate) as ?awardYear)\n",
    "        WHERE {\n",
    "            wd:%s p:P166 ?awardStatement .\n",
    "            ?awardStatement ps:P166 ?award .\n",
    "            OPTIONAL { ?awardStatement pq:P585 ?awardDate . }\n",
    "            ?award p:P31/ps:P31/wdt:P279* wd:Q1364556 .\n",
    "            SERVICE wikibase:label { bd:serviceParam wikibase:language \"en\" . } \n",
    "        }\n",
    "    \"\"\" % entity_id\n",
    "\n",
    "    user_agent = \"database2_project Python/%s.%s\" % (sys.version_info[0], sys.version_info[1])\n",
    "    \n",
    "    sparql = SPARQLWrapper(url, agent=user_agent)\n",
    "    sparql.setQuery(query)\n",
    "    sparql.setReturnFormat(JSON)\n",
    "    results = sparql.query().convert()\n",
    "\n",
    "    if len(results['results']['bindings']):\n",
    "      return results['results']['bindings']\n",
    "    else: # if len == 0, no result\n",
    "      return None"
   ]
  },
  {
   "cell_type": "markdown",
   "id": "34e320bb-f31d-467f-9e3a-a9065b5cdf86",
   "metadata": {},
   "source": [
    "## Preprocessing\n",
    "- read the .csv file (only ```Artist``` and ```Url_spotify``` columns)\n",
    "- drop duplicated artists: the data we ask for would be the same every time\n",
    "- extract Spotify artist ID from the URL"
   ]
  },
  {
   "cell_type": "code",
   "execution_count": 6,
   "id": "9282d111-bcda-42af-9e6e-05c5c69e3dda",
   "metadata": {
    "ExecuteTime": {
     "end_time": "2023-12-07T10:32:18.534449Z",
     "start_time": "2023-12-07T10:32:17.468329500Z"
    }
   },
   "outputs": [],
   "source": [
    "artists = pd.read_csv('../data/Spotify_Youtube.csv', usecols=['Artist', 'Url_spotify'])\n",
    "artists = artists.drop_duplicates(subset='Artist').reset_index(drop=True)\n",
    "artists['Url_spotify'] = artists['Url_spotify'].apply(lambda spotify_id: spotify_id.split('/')[-1])"
   ]
  },
  {
   "cell_type": "code",
   "execution_count": 7,
   "id": "ada93e69-abe3-493a-b0cd-d355fe3721fa",
   "metadata": {
    "ExecuteTime": {
     "end_time": "2023-12-07T10:32:19.883526700Z",
     "start_time": "2023-12-07T10:32:19.738999900Z"
    }
   },
   "outputs": [
    {
     "data": {
      "text/plain": "                     Artist             Url_spotify\n0                  Gorillaz  3AA28KZvwAUcZuOKwyblJQ\n1     Red Hot Chili Peppers  0L8ExT028jH3ddEcZwqJJ5\n2                   50 Cent  3q7HBObVc0L8jNeTe5Gofh\n3                 Metallica  2ye2Wgw4gimLv2eAKyk1NB\n4                  Coldplay  4gzpq5DPGxSnKTe4SA8HAU\n...                     ...                     ...\n2074         Grupo Frontera  6XkjpgcEsYab502Vr1bBeW\n2075              Jung Kook  6HaGTQPmzraVmaVxvz6EUc\n2076            LE SSERAFIM  4SpbR6yFEvexJuaBpgAU5p\n2077               ThxSoMch  4MvZhE1iuzttcoyepkpfdF\n2078            SICK LEGEND  3EYY5FwDkHEYLw5V86SAtl\n\n[2079 rows x 2 columns]",
      "text/html": "<div>\n<style scoped>\n    .dataframe tbody tr th:only-of-type {\n        vertical-align: middle;\n    }\n\n    .dataframe tbody tr th {\n        vertical-align: top;\n    }\n\n    .dataframe thead th {\n        text-align: right;\n    }\n</style>\n<table border=\"1\" class=\"dataframe\">\n  <thead>\n    <tr style=\"text-align: right;\">\n      <th></th>\n      <th>Artist</th>\n      <th>Url_spotify</th>\n    </tr>\n  </thead>\n  <tbody>\n    <tr>\n      <th>0</th>\n      <td>Gorillaz</td>\n      <td>3AA28KZvwAUcZuOKwyblJQ</td>\n    </tr>\n    <tr>\n      <th>1</th>\n      <td>Red Hot Chili Peppers</td>\n      <td>0L8ExT028jH3ddEcZwqJJ5</td>\n    </tr>\n    <tr>\n      <th>2</th>\n      <td>50 Cent</td>\n      <td>3q7HBObVc0L8jNeTe5Gofh</td>\n    </tr>\n    <tr>\n      <th>3</th>\n      <td>Metallica</td>\n      <td>2ye2Wgw4gimLv2eAKyk1NB</td>\n    </tr>\n    <tr>\n      <th>4</th>\n      <td>Coldplay</td>\n      <td>4gzpq5DPGxSnKTe4SA8HAU</td>\n    </tr>\n    <tr>\n      <th>...</th>\n      <td>...</td>\n      <td>...</td>\n    </tr>\n    <tr>\n      <th>2074</th>\n      <td>Grupo Frontera</td>\n      <td>6XkjpgcEsYab502Vr1bBeW</td>\n    </tr>\n    <tr>\n      <th>2075</th>\n      <td>Jung Kook</td>\n      <td>6HaGTQPmzraVmaVxvz6EUc</td>\n    </tr>\n    <tr>\n      <th>2076</th>\n      <td>LE SSERAFIM</td>\n      <td>4SpbR6yFEvexJuaBpgAU5p</td>\n    </tr>\n    <tr>\n      <th>2077</th>\n      <td>ThxSoMch</td>\n      <td>4MvZhE1iuzttcoyepkpfdF</td>\n    </tr>\n    <tr>\n      <th>2078</th>\n      <td>SICK LEGEND</td>\n      <td>3EYY5FwDkHEYLw5V86SAtl</td>\n    </tr>\n  </tbody>\n</table>\n<p>2079 rows × 2 columns</p>\n</div>"
     },
     "execution_count": 7,
     "metadata": {},
     "output_type": "execute_result"
    }
   ],
   "source": [
    "artists"
   ]
  },
  {
   "cell_type": "markdown",
   "id": "5365d025-881a-44b9-95fd-00f54e06f7b6",
   "metadata": {},
   "source": [
    "## Save the data\n",
    "This cell executes the queries and saves a pandas DataFrame with all the information available."
   ]
  },
  {
   "cell_type": "code",
   "execution_count": 8,
   "id": "97ae3614-8120-4c5d-95a5-7d76b9963473",
   "metadata": {
    "ExecuteTime": {
     "end_time": "2023-12-07T11:04:26.777736800Z",
     "start_time": "2023-12-07T10:32:25.168202700Z"
    }
   },
   "outputs": [
    {
     "name": "stderr",
     "output_type": "stream",
     "text": [
      "100%|██████████| 2079/2079 [32:01<00:00,  1.08it/s]\n"
     ]
    }
   ],
   "source": [
    "# data structures to store data to compose final pd.DataFrame(s)\n",
    "artistLabels = []\n",
    "websiteLabels = []\n",
    "starts = []\n",
    "ends = []\n",
    "dissolveds = []\n",
    "country_codes = []\n",
    "\n",
    "award_names = []\n",
    "award_statements = {\n",
    "    'artist_spotify_id': [],\n",
    "    'award_id': [],\n",
    "    'award_year': []\n",
    "}\n",
    "\n",
    "for index, row in tqdm(artists.iterrows(), total=artists.shape[0]):\n",
    "    q_res = None\n",
    "    \n",
    "    # execute queries and get results\n",
    "    q_id = get_info_by_spotify_id(row['Url_spotify'])\n",
    "    if q_id is not None:\n",
    "        q_res = q_id\n",
    "    else:\n",
    "        q_label = get_info_by_label(row['Artist'])\n",
    "        if q_label is not None:\n",
    "            q_res = q_label\n",
    "            \n",
    "    if q_res is not None:\n",
    "        # country codes\n",
    "        # extract from q_res the entity ID and use it in the query\n",
    "        # the URI is like: http://www.wikidata.org/entity/ID\n",
    "        artist_wd_entity_id = q_res['artist']['value'].split('/')[-1]\n",
    "\n",
    "        # country codes\n",
    "        q_cc = get_countrycode_by_wd_entity(artist_wd_entity_id)\n",
    "        if q_cc is not None:\n",
    "            # gather all country codes and join then in a string\n",
    "            country_code_list = [result_row['iso31661alpha2codeLabel']['value'] for result_row in q_cc]\n",
    "            country_code_str = '+'.join(country_code_list)\n",
    "            country_codes.append(country_code_str)\n",
    "        else:\n",
    "            country_codes.append('_')\n",
    "\n",
    "        # awards received\n",
    "        q_awards = get_awards_by_wd_entity(artist_wd_entity_id)\n",
    "        if q_awards is not None:\n",
    "            for award in q_awards: # for every award\n",
    "                # avoid awards without labels\n",
    "                if not re.fullmatch(r'Q[0-9]+', award['awardLabel']['value']):\n",
    "                    # add the name to the list of awards\n",
    "                    if award['awardLabel']['value'] not in award_names:\n",
    "                        award_names.append(award['awardLabel']['value'])\n",
    "    \n",
    "                    # gather statement about artist winning the award in a year (if present)\n",
    "                    award_statements['artist_spotify_id'].append(row['Url_spotify'])\n",
    "                    award_id = award_names.index(award['awardLabel']['value'])\n",
    "                    award_statements['award_id'].append(award_id)\n",
    "                    award_year = award['awardYear']['value'] if 'awardYear' in award.keys() else '_'\n",
    "                    award_statements['award_year'].append(award_year)\n",
    "\n",
    "        # other artist info\n",
    "        # the JSON response contains only properties for which there is a value\n",
    "        # for each property, we check if the corresponding key is present\n",
    "        #\tadding the property value or '_' accordingly\n",
    "        q_keys = q_res.keys()\n",
    "\n",
    "        artistLabel = q_res['artistLabel']['value'] if 'artistLabel' in q_keys else '_'\n",
    "        artistLabels.append(artistLabel)\n",
    "\n",
    "        websiteLabel = q_res['websiteLabel']['value'] if 'websiteLabel' in q_keys else '_'\n",
    "        websiteLabels.append(websiteLabel)\n",
    "\n",
    "        start = q_res['start']['value'] if 'start' in q_keys else '_'\n",
    "        starts.append(start)\n",
    "        \n",
    "        end = q_res['end']['value'] if 'end' in q_keys else '_'\n",
    "        ends.append(end)\n",
    "        \n",
    "        dissolved = q_res['dissolved']['value'] if 'dissolved' in q_keys else '_'\n",
    "        dissolveds.append(dissolved)\n",
    "    else:\n",
    "        artistLabels.append('_')\n",
    "        websiteLabels.append('_')\n",
    "        starts.append('_')\n",
    "        ends.append('_')\n",
    "        dissolveds.append('_')\n",
    "        country_codes.append('_')"
   ]
  },
  {
   "cell_type": "code",
   "execution_count": 9,
   "outputs": [],
   "source": [
    "artist_info = artists.copy(deep=True)\n",
    "artist_info['artistLabel'] = artistLabels\n",
    "artist_info['websiteLabel'] = websiteLabels\n",
    "artist_info['start'] = starts\n",
    "artist_info['end'] = ends\n",
    "artist_info['dissolved'] = dissolveds\n",
    "artist_info['country_codes'] = country_codes\n",
    "artist_info.to_csv('../data/wikidata_artists.csv', index=False)"
   ],
   "metadata": {
    "collapsed": false,
    "ExecuteTime": {
     "end_time": "2023-12-07T11:04:43.008217500Z",
     "start_time": "2023-12-07T11:04:42.506662200Z"
    }
   },
   "id": "129e0f5a6db76849"
  },
  {
   "cell_type": "code",
   "execution_count": 10,
   "outputs": [
    {
     "data": {
      "text/plain": "     award_id                                         award_name\n0           0                                        MOJO Awards\n1           1  Grammy Award for Best Rock Performance by a Du...\n2           2              MTV Europe Music Award for Best Album\n3           3                   Grammy Award for Best Rock Album\n4           4       Grammy Award for Best Dance/Electronic Album\n..        ...                                                ...\n188       188      Latin Grammy Award for Best Recording Package\n189       189         First prize of the Eurovision Song Contest\n190       190         MTV Europe Music Award for Best Korean Act\n191       191                     P3 Gull for Artist of the Year\n192       192                                       Premios Musa\n\n[193 rows x 2 columns]",
      "text/html": "<div>\n<style scoped>\n    .dataframe tbody tr th:only-of-type {\n        vertical-align: middle;\n    }\n\n    .dataframe tbody tr th {\n        vertical-align: top;\n    }\n\n    .dataframe thead th {\n        text-align: right;\n    }\n</style>\n<table border=\"1\" class=\"dataframe\">\n  <thead>\n    <tr style=\"text-align: right;\">\n      <th></th>\n      <th>award_id</th>\n      <th>award_name</th>\n    </tr>\n  </thead>\n  <tbody>\n    <tr>\n      <th>0</th>\n      <td>0</td>\n      <td>MOJO Awards</td>\n    </tr>\n    <tr>\n      <th>1</th>\n      <td>1</td>\n      <td>Grammy Award for Best Rock Performance by a Du...</td>\n    </tr>\n    <tr>\n      <th>2</th>\n      <td>2</td>\n      <td>MTV Europe Music Award for Best Album</td>\n    </tr>\n    <tr>\n      <th>3</th>\n      <td>3</td>\n      <td>Grammy Award for Best Rock Album</td>\n    </tr>\n    <tr>\n      <th>4</th>\n      <td>4</td>\n      <td>Grammy Award for Best Dance/Electronic Album</td>\n    </tr>\n    <tr>\n      <th>...</th>\n      <td>...</td>\n      <td>...</td>\n    </tr>\n    <tr>\n      <th>188</th>\n      <td>188</td>\n      <td>Latin Grammy Award for Best Recording Package</td>\n    </tr>\n    <tr>\n      <th>189</th>\n      <td>189</td>\n      <td>First prize of the Eurovision Song Contest</td>\n    </tr>\n    <tr>\n      <th>190</th>\n      <td>190</td>\n      <td>MTV Europe Music Award for Best Korean Act</td>\n    </tr>\n    <tr>\n      <th>191</th>\n      <td>191</td>\n      <td>P3 Gull for Artist of the Year</td>\n    </tr>\n    <tr>\n      <th>192</th>\n      <td>192</td>\n      <td>Premios Musa</td>\n    </tr>\n  </tbody>\n</table>\n<p>193 rows × 2 columns</p>\n</div>"
     },
     "execution_count": 10,
     "metadata": {},
     "output_type": "execute_result"
    }
   ],
   "source": [
    "awards_info = pd.DataFrame({\n",
    "    'award_id': range(len(award_names)),\n",
    "    'award_name': award_names\n",
    "})\n",
    "awards_info"
   ],
   "metadata": {
    "collapsed": false,
    "ExecuteTime": {
     "end_time": "2023-12-07T11:04:45.267434600Z",
     "start_time": "2023-12-07T11:04:45.251203900Z"
    }
   },
   "id": "7b50b7603fac8277"
  },
  {
   "cell_type": "code",
   "execution_count": 11,
   "outputs": [
    {
     "data": {
      "text/plain": "                                     award_type  \\\n0                                   MOJO Awards   \n1                                  Grammy Award   \n2                        MTV Europe Music Award   \n3                                  Grammy Award   \n4                                  Grammy Award   \n..                                          ...   \n188                          Latin Grammy Award   \n189  First prize of the Eurovision Song Contest   \n190                      MTV Europe Music Award   \n191                                     P3 Gull   \n192                                Premios Musa   \n\n                                        award_category  \n0                                                  NaN  \n1    Best Rock Performance by a Duo or Group with V...  \n2                                           Best Album  \n3                                      Best Rock Album  \n4                          Best Dance/Electronic Album  \n..                                                 ...  \n188                             Best Recording Package  \n189                                                NaN  \n190                                    Best Korean Act  \n191                                 Artist of the Year  \n192                                                NaN  \n\n[193 rows x 2 columns]",
      "text/html": "<div>\n<style scoped>\n    .dataframe tbody tr th:only-of-type {\n        vertical-align: middle;\n    }\n\n    .dataframe tbody tr th {\n        vertical-align: top;\n    }\n\n    .dataframe thead th {\n        text-align: right;\n    }\n</style>\n<table border=\"1\" class=\"dataframe\">\n  <thead>\n    <tr style=\"text-align: right;\">\n      <th></th>\n      <th>award_type</th>\n      <th>award_category</th>\n    </tr>\n  </thead>\n  <tbody>\n    <tr>\n      <th>0</th>\n      <td>MOJO Awards</td>\n      <td>NaN</td>\n    </tr>\n    <tr>\n      <th>1</th>\n      <td>Grammy Award</td>\n      <td>Best Rock Performance by a Duo or Group with V...</td>\n    </tr>\n    <tr>\n      <th>2</th>\n      <td>MTV Europe Music Award</td>\n      <td>Best Album</td>\n    </tr>\n    <tr>\n      <th>3</th>\n      <td>Grammy Award</td>\n      <td>Best Rock Album</td>\n    </tr>\n    <tr>\n      <th>4</th>\n      <td>Grammy Award</td>\n      <td>Best Dance/Electronic Album</td>\n    </tr>\n    <tr>\n      <th>...</th>\n      <td>...</td>\n      <td>...</td>\n    </tr>\n    <tr>\n      <th>188</th>\n      <td>Latin Grammy Award</td>\n      <td>Best Recording Package</td>\n    </tr>\n    <tr>\n      <th>189</th>\n      <td>First prize of the Eurovision Song Contest</td>\n      <td>NaN</td>\n    </tr>\n    <tr>\n      <th>190</th>\n      <td>MTV Europe Music Award</td>\n      <td>Best Korean Act</td>\n    </tr>\n    <tr>\n      <th>191</th>\n      <td>P3 Gull</td>\n      <td>Artist of the Year</td>\n    </tr>\n    <tr>\n      <th>192</th>\n      <td>Premios Musa</td>\n      <td>NaN</td>\n    </tr>\n  </tbody>\n</table>\n<p>193 rows × 2 columns</p>\n</div>"
     },
     "execution_count": 11,
     "metadata": {},
     "output_type": "execute_result"
    }
   ],
   "source": [
    "split_names = awards_info['award_name'].apply(lambda name: name.split(' for ', maxsplit=1)).apply(pd.Series)\n",
    "split_names = split_names.rename(columns={0: 'award_type', 1: 'award_category'})\n",
    "split_names"
   ],
   "metadata": {
    "collapsed": false,
    "ExecuteTime": {
     "end_time": "2023-12-07T11:04:48.897458400Z",
     "start_time": "2023-12-07T11:04:48.797755600Z"
    }
   },
   "id": "f775c9327c4e8c7e"
  },
  {
   "cell_type": "code",
   "execution_count": 12,
   "outputs": [
    {
     "data": {
      "text/plain": "     award_id                                         award_name  \\\n0           0                                        MOJO Awards   \n1           1  Grammy Award for Best Rock Performance by a Du...   \n2           2              MTV Europe Music Award for Best Album   \n3           3                   Grammy Award for Best Rock Album   \n4           4       Grammy Award for Best Dance/Electronic Album   \n..        ...                                                ...   \n188       188      Latin Grammy Award for Best Recording Package   \n189       189         First prize of the Eurovision Song Contest   \n190       190         MTV Europe Music Award for Best Korean Act   \n191       191                     P3 Gull for Artist of the Year   \n192       192                                       Premios Musa   \n\n                                     award_type  \\\n0                                   MOJO Awards   \n1                                  Grammy Award   \n2                        MTV Europe Music Award   \n3                                  Grammy Award   \n4                                  Grammy Award   \n..                                          ...   \n188                          Latin Grammy Award   \n189  First prize of the Eurovision Song Contest   \n190                      MTV Europe Music Award   \n191                                     P3 Gull   \n192                                Premios Musa   \n\n                                        award_category  \n0                                                  NaN  \n1    Best Rock Performance by a Duo or Group with V...  \n2                                           Best Album  \n3                                      Best Rock Album  \n4                          Best Dance/Electronic Album  \n..                                                 ...  \n188                             Best Recording Package  \n189                                                NaN  \n190                                    Best Korean Act  \n191                                 Artist of the Year  \n192                                                NaN  \n\n[193 rows x 4 columns]",
      "text/html": "<div>\n<style scoped>\n    .dataframe tbody tr th:only-of-type {\n        vertical-align: middle;\n    }\n\n    .dataframe tbody tr th {\n        vertical-align: top;\n    }\n\n    .dataframe thead th {\n        text-align: right;\n    }\n</style>\n<table border=\"1\" class=\"dataframe\">\n  <thead>\n    <tr style=\"text-align: right;\">\n      <th></th>\n      <th>award_id</th>\n      <th>award_name</th>\n      <th>award_type</th>\n      <th>award_category</th>\n    </tr>\n  </thead>\n  <tbody>\n    <tr>\n      <th>0</th>\n      <td>0</td>\n      <td>MOJO Awards</td>\n      <td>MOJO Awards</td>\n      <td>NaN</td>\n    </tr>\n    <tr>\n      <th>1</th>\n      <td>1</td>\n      <td>Grammy Award for Best Rock Performance by a Du...</td>\n      <td>Grammy Award</td>\n      <td>Best Rock Performance by a Duo or Group with V...</td>\n    </tr>\n    <tr>\n      <th>2</th>\n      <td>2</td>\n      <td>MTV Europe Music Award for Best Album</td>\n      <td>MTV Europe Music Award</td>\n      <td>Best Album</td>\n    </tr>\n    <tr>\n      <th>3</th>\n      <td>3</td>\n      <td>Grammy Award for Best Rock Album</td>\n      <td>Grammy Award</td>\n      <td>Best Rock Album</td>\n    </tr>\n    <tr>\n      <th>4</th>\n      <td>4</td>\n      <td>Grammy Award for Best Dance/Electronic Album</td>\n      <td>Grammy Award</td>\n      <td>Best Dance/Electronic Album</td>\n    </tr>\n    <tr>\n      <th>...</th>\n      <td>...</td>\n      <td>...</td>\n      <td>...</td>\n      <td>...</td>\n    </tr>\n    <tr>\n      <th>188</th>\n      <td>188</td>\n      <td>Latin Grammy Award for Best Recording Package</td>\n      <td>Latin Grammy Award</td>\n      <td>Best Recording Package</td>\n    </tr>\n    <tr>\n      <th>189</th>\n      <td>189</td>\n      <td>First prize of the Eurovision Song Contest</td>\n      <td>First prize of the Eurovision Song Contest</td>\n      <td>NaN</td>\n    </tr>\n    <tr>\n      <th>190</th>\n      <td>190</td>\n      <td>MTV Europe Music Award for Best Korean Act</td>\n      <td>MTV Europe Music Award</td>\n      <td>Best Korean Act</td>\n    </tr>\n    <tr>\n      <th>191</th>\n      <td>191</td>\n      <td>P3 Gull for Artist of the Year</td>\n      <td>P3 Gull</td>\n      <td>Artist of the Year</td>\n    </tr>\n    <tr>\n      <th>192</th>\n      <td>192</td>\n      <td>Premios Musa</td>\n      <td>Premios Musa</td>\n      <td>NaN</td>\n    </tr>\n  </tbody>\n</table>\n<p>193 rows × 4 columns</p>\n</div>"
     },
     "execution_count": 12,
     "metadata": {},
     "output_type": "execute_result"
    }
   ],
   "source": [
    "awards_final = pd.concat([awards_info, split_names], axis=1)\n",
    "awards_final"
   ],
   "metadata": {
    "collapsed": false,
    "ExecuteTime": {
     "end_time": "2023-12-07T11:04:53.937538100Z",
     "start_time": "2023-12-07T11:04:53.928774800Z"
    }
   },
   "id": "47be85f1e04835d9"
  },
  {
   "cell_type": "code",
   "execution_count": 13,
   "outputs": [],
   "source": [
    "awards_final.to_csv('../data/wikidata_awards.csv', index=False)"
   ],
   "metadata": {
    "collapsed": false,
    "ExecuteTime": {
     "end_time": "2023-12-07T11:05:01.192271400Z",
     "start_time": "2023-12-07T11:05:01.095150500Z"
    }
   },
   "id": "6bb54873714b414b"
  },
  {
   "cell_type": "code",
   "execution_count": 14,
   "outputs": [],
   "source": [
    "award_statements_df = pd.DataFrame(award_statements)\n",
    "award_statements_df.to_csv('../data/wikidata_award_statements.csv', index=False)"
   ],
   "metadata": {
    "collapsed": false,
    "ExecuteTime": {
     "end_time": "2023-12-07T11:05:04.149054400Z",
     "start_time": "2023-12-07T11:05:04.115812800Z"
    }
   },
   "id": "b312db2c91d64ef5"
  }
 ],
 "metadata": {
  "kernelspec": {
   "display_name": "db2",
   "language": "python",
   "name": "db2"
  },
  "language_info": {
   "codemirror_mode": {
    "name": "ipython",
    "version": 3
   },
   "file_extension": ".py",
   "mimetype": "text/x-python",
   "name": "python",
   "nbconvert_exporter": "python",
   "pygments_lexer": "ipython3",
   "version": "3.11.5"
  }
 },
 "nbformat": 4,
 "nbformat_minor": 5
}
